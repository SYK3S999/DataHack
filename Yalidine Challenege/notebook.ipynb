{
 "cells": [
  {
   "cell_type": "markdown",
   "metadata": {},
   "source": [
    "# Import Necessary Packages"
   ]
  },
  {
   "cell_type": "code",
   "execution_count": 75,
   "metadata": {},
   "outputs": [],
   "source": [
    "import pandas as pd\n",
    "from sklearn.model_selection import train_test_split\n",
    "from sklearn.preprocessing import LabelEncoder, StandardScaler\n",
    "from sklearn.linear_model import LogisticRegression\n",
    "from sklearn.tree import DecisionTreeClassifier\n",
    "from sklearn.ensemble import RandomForestClassifier\n",
    "from sklearn.metrics import accuracy_score, f1_score\n",
    "from sklearn.pipeline import Pipeline\n",
    "from sklearn.impute import IterativeImputer\n",
    "import seaborn as sns\n",
    "import matplotlib.pyplot as plt\n",
    "import os"
   ]
  },
  {
   "cell_type": "markdown",
   "metadata": {},
   "source": [
    "# Loading the data"
   ]
  },
  {
   "cell_type": "code",
   "execution_count": 39,
   "metadata": {},
   "outputs": [],
   "source": [
    "train_df = pd.read_csv(os.path.join('data', 'train_data.csv'))"
   ]
  },
  {
   "cell_type": "code",
   "execution_count": 40,
   "metadata": {},
   "outputs": [
    {
     "data": {
      "text/html": [
       "<div>\n",
       "<style scoped>\n",
       "    .dataframe tbody tr th:only-of-type {\n",
       "        vertical-align: middle;\n",
       "    }\n",
       "\n",
       "    .dataframe tbody tr th {\n",
       "        vertical-align: top;\n",
       "    }\n",
       "\n",
       "    .dataframe thead th {\n",
       "        text-align: right;\n",
       "    }\n",
       "</style>\n",
       "<table border=\"1\" class=\"dataframe\">\n",
       "  <thead>\n",
       "    <tr style=\"text-align: right;\">\n",
       "      <th></th>\n",
       "      <th>Tracking</th>\n",
       "      <th>date expédition</th>\n",
       "      <th>date première tentative</th>\n",
       "      <th>date livraison/échec</th>\n",
       "      <th>date dernier statut</th>\n",
       "      <th>ID expediteur</th>\n",
       "      <th>depart commune</th>\n",
       "      <th>depart wilaya</th>\n",
       "      <th>stop desk?</th>\n",
       "      <th>destination commune</th>\n",
       "      <th>destination wilaya</th>\n",
       "      <th>dernier statut</th>\n",
       "    </tr>\n",
       "  </thead>\n",
       "  <tbody>\n",
       "    <tr>\n",
       "      <th>0</th>\n",
       "      <td>yal-ABC240400</td>\n",
       "      <td>2024-01-10 18:18:53</td>\n",
       "      <td>2024-01-12 16:46:52</td>\n",
       "      <td>2024-01-12 16:46:52</td>\n",
       "      <td>2024-01-12 16:46:52</td>\n",
       "      <td>expyal-11571</td>\n",
       "      <td>Oued Smar</td>\n",
       "      <td>Alger</td>\n",
       "      <td>oui</td>\n",
       "      <td>El Menia</td>\n",
       "      <td>Ghardaïa</td>\n",
       "      <td>Livré</td>\n",
       "    </tr>\n",
       "    <tr>\n",
       "      <th>1</th>\n",
       "      <td>yal-ABC089640</td>\n",
       "      <td>2024-01-04 18:55:07</td>\n",
       "      <td>2024-01-05 14:50:19</td>\n",
       "      <td>2024-01-05 14:50:19</td>\n",
       "      <td>2024-01-05 14:50:19</td>\n",
       "      <td>expyal-95</td>\n",
       "      <td>Oued Smar</td>\n",
       "      <td>Alger</td>\n",
       "      <td>non</td>\n",
       "      <td>Médéa</td>\n",
       "      <td>Médéa</td>\n",
       "      <td>Livré</td>\n",
       "    </tr>\n",
       "    <tr>\n",
       "      <th>2</th>\n",
       "      <td>yal-ABC004222</td>\n",
       "      <td>2024-01-02 16:47:55</td>\n",
       "      <td>2024-01-04 08:39:02</td>\n",
       "      <td>2024-01-05 09:47:54</td>\n",
       "      <td>2024-01-05 09:47:54</td>\n",
       "      <td>expyal-571</td>\n",
       "      <td>Taher</td>\n",
       "      <td>Jijel</td>\n",
       "      <td>oui</td>\n",
       "      <td>Tizi Ouzou</td>\n",
       "      <td>Tizi Ouzou</td>\n",
       "      <td>Livré</td>\n",
       "    </tr>\n",
       "    <tr>\n",
       "      <th>3</th>\n",
       "      <td>yal-ABC003797</td>\n",
       "      <td>2024-01-01 17:27:33</td>\n",
       "      <td>2024-01-02 10:10:15</td>\n",
       "      <td>2024-01-02 10:14:20</td>\n",
       "      <td>2024-01-02 10:14:20</td>\n",
       "      <td>expyal-13280</td>\n",
       "      <td>Cheraga</td>\n",
       "      <td>Alger</td>\n",
       "      <td>non</td>\n",
       "      <td>Tlemcen</td>\n",
       "      <td>Tlemcen</td>\n",
       "      <td>Livré</td>\n",
       "    </tr>\n",
       "    <tr>\n",
       "      <th>4</th>\n",
       "      <td>yal-ABC132873</td>\n",
       "      <td>2024-01-07 14:45:47</td>\n",
       "      <td>2024-01-08 10:49:38</td>\n",
       "      <td>2024-01-08 10:49:38</td>\n",
       "      <td>2024-01-08 10:49:38</td>\n",
       "      <td>expyal-1623</td>\n",
       "      <td>Khenchela</td>\n",
       "      <td>Khenchela</td>\n",
       "      <td>non</td>\n",
       "      <td>Bordj Bou Arreridj</td>\n",
       "      <td>Bordj Bou Arreridj</td>\n",
       "      <td>Livré</td>\n",
       "    </tr>\n",
       "  </tbody>\n",
       "</table>\n",
       "</div>"
      ],
      "text/plain": [
       "        Tracking      date expédition date première tentative  \\\n",
       "0  yal-ABC240400  2024-01-10 18:18:53     2024-01-12 16:46:52   \n",
       "1  yal-ABC089640  2024-01-04 18:55:07     2024-01-05 14:50:19   \n",
       "2  yal-ABC004222  2024-01-02 16:47:55     2024-01-04 08:39:02   \n",
       "3  yal-ABC003797  2024-01-01 17:27:33     2024-01-02 10:10:15   \n",
       "4  yal-ABC132873  2024-01-07 14:45:47     2024-01-08 10:49:38   \n",
       "\n",
       "  date livraison/échec  date dernier statut ID expediteur depart commune  \\\n",
       "0  2024-01-12 16:46:52  2024-01-12 16:46:52  expyal-11571      Oued Smar   \n",
       "1  2024-01-05 14:50:19  2024-01-05 14:50:19     expyal-95      Oued Smar   \n",
       "2  2024-01-05 09:47:54  2024-01-05 09:47:54    expyal-571          Taher   \n",
       "3  2024-01-02 10:14:20  2024-01-02 10:14:20  expyal-13280        Cheraga   \n",
       "4  2024-01-08 10:49:38  2024-01-08 10:49:38   expyal-1623      Khenchela   \n",
       "\n",
       "  depart wilaya stop desk? destination commune  destination wilaya  \\\n",
       "0         Alger        oui            El Menia            Ghardaïa   \n",
       "1         Alger        non               Médéa               Médéa   \n",
       "2         Jijel        oui          Tizi Ouzou          Tizi Ouzou   \n",
       "3         Alger        non             Tlemcen             Tlemcen   \n",
       "4     Khenchela        non  Bordj Bou Arreridj  Bordj Bou Arreridj   \n",
       "\n",
       "  dernier statut  \n",
       "0          Livré  \n",
       "1          Livré  \n",
       "2          Livré  \n",
       "3          Livré  \n",
       "4          Livré  "
      ]
     },
     "execution_count": 40,
     "metadata": {},
     "output_type": "execute_result"
    }
   ],
   "source": [
    "train_df.head(5)"
   ]
  },
  {
   "cell_type": "code",
   "execution_count": 41,
   "metadata": {},
   "outputs": [
    {
     "data": {
      "text/html": [
       "<div>\n",
       "<style scoped>\n",
       "    .dataframe tbody tr th:only-of-type {\n",
       "        vertical-align: middle;\n",
       "    }\n",
       "\n",
       "    .dataframe tbody tr th {\n",
       "        vertical-align: top;\n",
       "    }\n",
       "\n",
       "    .dataframe thead th {\n",
       "        text-align: right;\n",
       "    }\n",
       "</style>\n",
       "<table border=\"1\" class=\"dataframe\">\n",
       "  <thead>\n",
       "    <tr style=\"text-align: right;\">\n",
       "      <th></th>\n",
       "      <th>Tracking</th>\n",
       "      <th>date expédition</th>\n",
       "      <th>date première tentative</th>\n",
       "      <th>date livraison/échec</th>\n",
       "      <th>date dernier statut</th>\n",
       "      <th>ID expediteur</th>\n",
       "      <th>depart commune</th>\n",
       "      <th>depart wilaya</th>\n",
       "      <th>stop desk?</th>\n",
       "      <th>destination commune</th>\n",
       "      <th>destination wilaya</th>\n",
       "      <th>dernier statut</th>\n",
       "    </tr>\n",
       "  </thead>\n",
       "  <tbody>\n",
       "    <tr>\n",
       "      <th>70259</th>\n",
       "      <td>yal-ABC313510</td>\n",
       "      <td>2024-01-14 16:26:01</td>\n",
       "      <td>2024-01-15 15:37:56</td>\n",
       "      <td>2024-01-15 15:37:56</td>\n",
       "      <td>2024-01-15 15:37:56</td>\n",
       "      <td>expyal-2254</td>\n",
       "      <td>Reghaïa</td>\n",
       "      <td>Alger</td>\n",
       "      <td>oui</td>\n",
       "      <td>Chlef</td>\n",
       "      <td>Chlef</td>\n",
       "      <td>Livré</td>\n",
       "    </tr>\n",
       "    <tr>\n",
       "      <th>201204</th>\n",
       "      <td>yal-ABC302023</td>\n",
       "      <td>2024-01-14 15:40:36</td>\n",
       "      <td>2024-01-15 12:27:01</td>\n",
       "      <td>2024-01-17 12:39:45</td>\n",
       "      <td>2024-01-17 12:39:45</td>\n",
       "      <td>expyal-1769</td>\n",
       "      <td>Cheraga</td>\n",
       "      <td>Alger</td>\n",
       "      <td>non</td>\n",
       "      <td>Constantine</td>\n",
       "      <td>Constantine</td>\n",
       "      <td>Livré</td>\n",
       "    </tr>\n",
       "    <tr>\n",
       "      <th>117584</th>\n",
       "      <td>yal-ABC254944</td>\n",
       "      <td>2024-01-14 12:54:17</td>\n",
       "      <td>2024-01-16 13:36:40</td>\n",
       "      <td>2024-01-16 13:36:40</td>\n",
       "      <td>2024-01-16 13:36:40</td>\n",
       "      <td>expyal-3673</td>\n",
       "      <td>Akbou</td>\n",
       "      <td>Béjaïa</td>\n",
       "      <td>oui</td>\n",
       "      <td>Sidi Bel Abbes</td>\n",
       "      <td>Sidi Bel Abbès</td>\n",
       "      <td>Livré</td>\n",
       "    </tr>\n",
       "  </tbody>\n",
       "</table>\n",
       "</div>"
      ],
      "text/plain": [
       "             Tracking      date expédition date première tentative  \\\n",
       "70259   yal-ABC313510  2024-01-14 16:26:01     2024-01-15 15:37:56   \n",
       "201204  yal-ABC302023  2024-01-14 15:40:36     2024-01-15 12:27:01   \n",
       "117584  yal-ABC254944  2024-01-14 12:54:17     2024-01-16 13:36:40   \n",
       "\n",
       "       date livraison/échec  date dernier statut ID expediteur depart commune  \\\n",
       "70259   2024-01-15 15:37:56  2024-01-15 15:37:56   expyal-2254        Reghaïa   \n",
       "201204  2024-01-17 12:39:45  2024-01-17 12:39:45   expyal-1769        Cheraga   \n",
       "117584  2024-01-16 13:36:40  2024-01-16 13:36:40   expyal-3673          Akbou   \n",
       "\n",
       "       depart wilaya stop desk? destination commune destination wilaya  \\\n",
       "70259          Alger        oui               Chlef              Chlef   \n",
       "201204         Alger        non         Constantine        Constantine   \n",
       "117584        Béjaïa        oui      Sidi Bel Abbes     Sidi Bel Abbès   \n",
       "\n",
       "       dernier statut  \n",
       "70259           Livré  \n",
       "201204          Livré  \n",
       "117584          Livré  "
      ]
     },
     "execution_count": 41,
     "metadata": {},
     "output_type": "execute_result"
    }
   ],
   "source": [
    "train_df.sample(3)"
   ]
  },
  {
   "cell_type": "markdown",
   "metadata": {},
   "source": [
    "# Data cleaning & preprocessing"
   ]
  },
  {
   "cell_type": "markdown",
   "metadata": {},
   "source": [
    "#### Duplicated rows count"
   ]
  },
  {
   "cell_type": "code",
   "execution_count": 42,
   "metadata": {},
   "outputs": [
    {
     "name": "stdout",
     "output_type": "stream",
     "text": [
      "Number of duplicated rows: 0\n"
     ]
    }
   ],
   "source": [
    "print(f'Number of duplicated rows: {train_df.duplicated().sum()}')"
   ]
  },
  {
   "cell_type": "markdown",
   "metadata": {},
   "source": [
    "#### Missing values count"
   ]
  },
  {
   "cell_type": "code",
   "execution_count": 43,
   "metadata": {},
   "outputs": [
    {
     "data": {
      "text/plain": [
       "Tracking                      0\n",
       "date expédition               0\n",
       "date première tentative    1121\n",
       "date livraison/échec       1149\n",
       "date dernier statut           0\n",
       "ID expediteur                 0\n",
       "depart commune                0\n",
       "depart wilaya                 0\n",
       "stop desk?                    0\n",
       "destination commune           0\n",
       "destination wilaya            0\n",
       "dernier statut                0\n",
       "dtype: int64"
      ]
     },
     "execution_count": 43,
     "metadata": {},
     "output_type": "execute_result"
    }
   ],
   "source": [
    "train_df.isnull().sum()"
   ]
  },
  {
   "cell_type": "markdown",
   "metadata": {},
   "source": [
    "#### Unify different wilayas words"
   ]
  },
  {
   "cell_type": "code",
   "execution_count": 44,
   "metadata": {},
   "outputs": [],
   "source": [
    "depart_mapping_dict = {\n",
    "    'depart wilaya': {\n",
    "        'Alger': 'Algiers',\n",
    "        'Béjaïa': 'Bejaïa',\n",
    "        'Aïn Témouchent': 'Aïn Temouchent',\n",
    "        'Boumerdès' : 'Boumerdes',\n",
    "        'Tipaza' : 'Tipasa',\n",
    "        \"M'Sila\" : \"M’Sila\",\n",
    "        \"Oum El Bouaghi\" : \"Oum el Bouaghi\",\n",
    "        \"Naâma\" : \"Naama\"\n",
    "    }\n",
    "}\n",
    "dest_mapping_dict = {\n",
    "    'destination wilaya': {\n",
    "        'Alger': 'Algiers',\n",
    "        'Béjaïa': 'Bejaïa',\n",
    "        'Aïn Témouchent': 'Aïn Temouchent',\n",
    "        'Boumerdès' : 'Boumerdes',\n",
    "        'Tipaza' : 'Tipasa',\n",
    "        \"M'Sila\" : \"M’Sila\",\n",
    "        \"Oum El Bouaghi\" : \"Oum el Bouaghi\",\n",
    "        \"Naâma\" : \"Naama\"\n",
    "    }\n",
    "}"
   ]
  },
  {
   "cell_type": "code",
   "execution_count": 45,
   "metadata": {},
   "outputs": [],
   "source": [
    "train_df.replace(depart_mapping_dict, inplace=True)\n",
    "train_df.replace(dest_mapping_dict, inplace=True)"
   ]
  },
  {
   "cell_type": "markdown",
   "metadata": {},
   "source": [
    "#### Grouping the status labels in 3 classes"
   ]
  },
  {
   "cell_type": "code",
   "execution_count": 46,
   "metadata": {},
   "outputs": [],
   "source": [
    "status_mapping = {\n",
    "    'Livré': 'Livré',\n",
    "    'Retourné au vendeur': 'Retourné au vendeur',\n",
    "    'Transfert': 'Expédié',\n",
    "    'Retour à retirer': 'Retourné au vendeur',\n",
    "    'Vers Wilaya': 'Expédié',\n",
    "    'Retour groupé': 'Retourné au vendeur',\n",
    "    'En localisation': 'Expédié',\n",
    "    'Centre': 'Expédié',\n",
    "    'Expédié': 'Expédié',\n",
    "    'Reçu à Wilaya': 'Expédié',\n",
    "    'Retour vers centre': 'Expédié',\n",
    "    'Retourné au centre': 'Retourné au vendeur'\n",
    "}\n",
    "\n",
    "train_df['dernier statut'] = train_df['dernier statut'].map(status_mapping)"
   ]
  },
  {
   "cell_type": "code",
   "execution_count": 47,
   "metadata": {},
   "outputs": [
    {
     "data": {
      "text/plain": [
       "dernier statut\n",
       "Livré                  236293\n",
       "Retourné au vendeur     34220\n",
       "Expédié                   968\n",
       "Name: count, dtype: int64"
      ]
     },
     "execution_count": 47,
     "metadata": {},
     "output_type": "execute_result"
    }
   ],
   "source": [
    "train_df['dernier statut'].value_counts()"
   ]
  },
  {
   "cell_type": "markdown",
   "metadata": {},
   "source": [
    "#### Compute the time differences"
   ]
  },
  {
   "cell_type": "code",
   "execution_count": 48,
   "metadata": {},
   "outputs": [],
   "source": [
    "train_df['date expédition'] = pd.to_datetime(train_df['date expédition'])\n",
    "train_df['date première tentative'] = pd.to_datetime(train_df['date première tentative'])\n",
    "train_df['date livraison/échec'] = pd.to_datetime(train_df['date livraison/échec'])\n",
    "train_df['date dernier statut'] = pd.to_datetime(train_df['date dernier statut'])"
   ]
  },
  {
   "cell_type": "code",
   "execution_count": 49,
   "metadata": {},
   "outputs": [],
   "source": [
    "train_df['first_delivery_time'] = (train_df['date première tentative'] - train_df['date expédition']).dt.total_seconds() / 3600"
   ]
  },
  {
   "cell_type": "code",
   "execution_count": 50,
   "metadata": {},
   "outputs": [],
   "source": [
    "train_df['pending_time'] = (train_df['date livraison/échec'] - train_df['date première tentative']).dt.total_seconds() / 3600"
   ]
  },
  {
   "cell_type": "code",
   "execution_count": 51,
   "metadata": {},
   "outputs": [],
   "source": [
    "train_df['last_status_time'] = (train_df['date dernier statut'] - train_df['date livraison/échec']).dt.total_seconds() / 3600"
   ]
  },
  {
   "cell_type": "markdown",
   "metadata": {},
   "source": [
    "#### Compute the frequency of shippers"
   ]
  },
  {
   "cell_type": "code",
   "execution_count": 52,
   "metadata": {},
   "outputs": [],
   "source": [
    "train_df['expediteur_freq'] = train_df['ID expediteur'].map(train_df['ID expediteur'].value_counts())"
   ]
  },
  {
   "cell_type": "markdown",
   "metadata": {},
   "source": [
    "#### Droping irrelevant columns"
   ]
  },
  {
   "cell_type": "code",
   "execution_count": 53,
   "metadata": {},
   "outputs": [],
   "source": [
    "train_df = train_df.drop(['ID expediteur', 'Tracking','date expédition', 'date première tentative', 'date livraison/échec', 'date dernier statut'], axis=1)"
   ]
  },
  {
   "cell_type": "code",
   "execution_count": 54,
   "metadata": {},
   "outputs": [
    {
     "data": {
      "text/html": [
       "<div>\n",
       "<style scoped>\n",
       "    .dataframe tbody tr th:only-of-type {\n",
       "        vertical-align: middle;\n",
       "    }\n",
       "\n",
       "    .dataframe tbody tr th {\n",
       "        vertical-align: top;\n",
       "    }\n",
       "\n",
       "    .dataframe thead th {\n",
       "        text-align: right;\n",
       "    }\n",
       "</style>\n",
       "<table border=\"1\" class=\"dataframe\">\n",
       "  <thead>\n",
       "    <tr style=\"text-align: right;\">\n",
       "      <th></th>\n",
       "      <th>depart commune</th>\n",
       "      <th>depart wilaya</th>\n",
       "      <th>stop desk?</th>\n",
       "      <th>destination commune</th>\n",
       "      <th>destination wilaya</th>\n",
       "      <th>dernier statut</th>\n",
       "      <th>first_delivery_time</th>\n",
       "      <th>pending_time</th>\n",
       "      <th>last_status_time</th>\n",
       "      <th>expediteur_freq</th>\n",
       "    </tr>\n",
       "  </thead>\n",
       "  <tbody>\n",
       "    <tr>\n",
       "      <th>0</th>\n",
       "      <td>Oued Smar</td>\n",
       "      <td>Algiers</td>\n",
       "      <td>oui</td>\n",
       "      <td>El Menia</td>\n",
       "      <td>Ghardaïa</td>\n",
       "      <td>Livré</td>\n",
       "      <td>46.466389</td>\n",
       "      <td>0.000000</td>\n",
       "      <td>0.0</td>\n",
       "      <td>89</td>\n",
       "    </tr>\n",
       "    <tr>\n",
       "      <th>1</th>\n",
       "      <td>Oued Smar</td>\n",
       "      <td>Algiers</td>\n",
       "      <td>non</td>\n",
       "      <td>Médéa</td>\n",
       "      <td>Médéa</td>\n",
       "      <td>Livré</td>\n",
       "      <td>19.920000</td>\n",
       "      <td>0.000000</td>\n",
       "      <td>0.0</td>\n",
       "      <td>199</td>\n",
       "    </tr>\n",
       "    <tr>\n",
       "      <th>2</th>\n",
       "      <td>Taher</td>\n",
       "      <td>Jijel</td>\n",
       "      <td>oui</td>\n",
       "      <td>Tizi Ouzou</td>\n",
       "      <td>Tizi Ouzou</td>\n",
       "      <td>Livré</td>\n",
       "      <td>39.851944</td>\n",
       "      <td>25.147778</td>\n",
       "      <td>0.0</td>\n",
       "      <td>38</td>\n",
       "    </tr>\n",
       "    <tr>\n",
       "      <th>3</th>\n",
       "      <td>Cheraga</td>\n",
       "      <td>Algiers</td>\n",
       "      <td>non</td>\n",
       "      <td>Tlemcen</td>\n",
       "      <td>Tlemcen</td>\n",
       "      <td>Livré</td>\n",
       "      <td>16.711667</td>\n",
       "      <td>0.068056</td>\n",
       "      <td>0.0</td>\n",
       "      <td>35</td>\n",
       "    </tr>\n",
       "    <tr>\n",
       "      <th>4</th>\n",
       "      <td>Khenchela</td>\n",
       "      <td>Khenchela</td>\n",
       "      <td>non</td>\n",
       "      <td>Bordj Bou Arreridj</td>\n",
       "      <td>Bordj Bou Arreridj</td>\n",
       "      <td>Livré</td>\n",
       "      <td>20.064167</td>\n",
       "      <td>0.000000</td>\n",
       "      <td>0.0</td>\n",
       "      <td>74</td>\n",
       "    </tr>\n",
       "  </tbody>\n",
       "</table>\n",
       "</div>"
      ],
      "text/plain": [
       "  depart commune depart wilaya stop desk? destination commune  \\\n",
       "0      Oued Smar       Algiers        oui            El Menia   \n",
       "1      Oued Smar       Algiers        non               Médéa   \n",
       "2          Taher         Jijel        oui          Tizi Ouzou   \n",
       "3        Cheraga       Algiers        non             Tlemcen   \n",
       "4      Khenchela     Khenchela        non  Bordj Bou Arreridj   \n",
       "\n",
       "   destination wilaya dernier statut  first_delivery_time  pending_time  \\\n",
       "0            Ghardaïa          Livré            46.466389      0.000000   \n",
       "1               Médéa          Livré            19.920000      0.000000   \n",
       "2          Tizi Ouzou          Livré            39.851944     25.147778   \n",
       "3             Tlemcen          Livré            16.711667      0.068056   \n",
       "4  Bordj Bou Arreridj          Livré            20.064167      0.000000   \n",
       "\n",
       "   last_status_time  expediteur_freq  \n",
       "0               0.0               89  \n",
       "1               0.0              199  \n",
       "2               0.0               38  \n",
       "3               0.0               35  \n",
       "4               0.0               74  "
      ]
     },
     "execution_count": 54,
     "metadata": {},
     "output_type": "execute_result"
    }
   ],
   "source": [
    "train_df.head()"
   ]
  },
  {
   "cell_type": "markdown",
   "metadata": {},
   "source": [
    "#### Label Encoding"
   ]
  },
  {
   "cell_type": "code",
   "execution_count": 55,
   "metadata": {},
   "outputs": [],
   "source": [
    "label_encoder = LabelEncoder()\n",
    "train_df['depart wilaya'] = label_encoder.fit_transform(train_df['depart wilaya'])\n",
    "train_df['destination wilaya'] = label_encoder.fit_transform(train_df['destination wilaya'])\n",
    "train_df['depart commune'] = label_encoder.fit_transform(train_df['depart commune'])\n",
    "train_df['destination commune'] = label_encoder.fit_transform(train_df['destination commune'])\n",
    "train_df['stop desk?'] = label_encoder.fit_transform(train_df['stop desk?'])"
   ]
  },
  {
   "cell_type": "code",
   "execution_count": 56,
   "metadata": {},
   "outputs": [
    {
     "data": {
      "text/html": [
       "<div>\n",
       "<style scoped>\n",
       "    .dataframe tbody tr th:only-of-type {\n",
       "        vertical-align: middle;\n",
       "    }\n",
       "\n",
       "    .dataframe tbody tr th {\n",
       "        vertical-align: top;\n",
       "    }\n",
       "\n",
       "    .dataframe thead th {\n",
       "        text-align: right;\n",
       "    }\n",
       "</style>\n",
       "<table border=\"1\" class=\"dataframe\">\n",
       "  <thead>\n",
       "    <tr style=\"text-align: right;\">\n",
       "      <th></th>\n",
       "      <th>depart commune</th>\n",
       "      <th>depart wilaya</th>\n",
       "      <th>stop desk?</th>\n",
       "      <th>destination commune</th>\n",
       "      <th>destination wilaya</th>\n",
       "      <th>dernier statut</th>\n",
       "      <th>first_delivery_time</th>\n",
       "      <th>pending_time</th>\n",
       "      <th>last_status_time</th>\n",
       "      <th>expediteur_freq</th>\n",
       "    </tr>\n",
       "  </thead>\n",
       "  <tbody>\n",
       "    <tr>\n",
       "      <th>0</th>\n",
       "      <td>87</td>\n",
       "      <td>1</td>\n",
       "      <td>1</td>\n",
       "      <td>592</td>\n",
       "      <td>19</td>\n",
       "      <td>Livré</td>\n",
       "      <td>46.466389</td>\n",
       "      <td>0.000000</td>\n",
       "      <td>0.0</td>\n",
       "      <td>89</td>\n",
       "    </tr>\n",
       "    <tr>\n",
       "      <th>1</th>\n",
       "      <td>87</td>\n",
       "      <td>1</td>\n",
       "      <td>0</td>\n",
       "      <td>907</td>\n",
       "      <td>28</td>\n",
       "      <td>Livré</td>\n",
       "      <td>19.920000</td>\n",
       "      <td>0.000000</td>\n",
       "      <td>0.0</td>\n",
       "      <td>199</td>\n",
       "    </tr>\n",
       "    <tr>\n",
       "      <th>2</th>\n",
       "      <td>101</td>\n",
       "      <td>22</td>\n",
       "      <td>1</td>\n",
       "      <td>1319</td>\n",
       "      <td>45</td>\n",
       "      <td>Livré</td>\n",
       "      <td>39.851944</td>\n",
       "      <td>25.147778</td>\n",
       "      <td>0.0</td>\n",
       "      <td>38</td>\n",
       "    </tr>\n",
       "    <tr>\n",
       "      <th>3</th>\n",
       "      <td>39</td>\n",
       "      <td>1</td>\n",
       "      <td>0</td>\n",
       "      <td>1322</td>\n",
       "      <td>46</td>\n",
       "      <td>Livré</td>\n",
       "      <td>16.711667</td>\n",
       "      <td>0.068056</td>\n",
       "      <td>0.0</td>\n",
       "      <td>35</td>\n",
       "    </tr>\n",
       "    <tr>\n",
       "      <th>4</th>\n",
       "      <td>71</td>\n",
       "      <td>23</td>\n",
       "      <td>0</td>\n",
       "      <td>303</td>\n",
       "      <td>9</td>\n",
       "      <td>Livré</td>\n",
       "      <td>20.064167</td>\n",
       "      <td>0.000000</td>\n",
       "      <td>0.0</td>\n",
       "      <td>74</td>\n",
       "    </tr>\n",
       "  </tbody>\n",
       "</table>\n",
       "</div>"
      ],
      "text/plain": [
       "   depart commune  depart wilaya  stop desk?  destination commune  \\\n",
       "0              87              1           1                  592   \n",
       "1              87              1           0                  907   \n",
       "2             101             22           1                 1319   \n",
       "3              39              1           0                 1322   \n",
       "4              71             23           0                  303   \n",
       "\n",
       "   destination wilaya dernier statut  first_delivery_time  pending_time  \\\n",
       "0                  19          Livré            46.466389      0.000000   \n",
       "1                  28          Livré            19.920000      0.000000   \n",
       "2                  45          Livré            39.851944     25.147778   \n",
       "3                  46          Livré            16.711667      0.068056   \n",
       "4                   9          Livré            20.064167      0.000000   \n",
       "\n",
       "   last_status_time  expediteur_freq  \n",
       "0               0.0               89  \n",
       "1               0.0              199  \n",
       "2               0.0               38  \n",
       "3               0.0               35  \n",
       "4               0.0               74  "
      ]
     },
     "execution_count": 56,
     "metadata": {},
     "output_type": "execute_result"
    }
   ],
   "source": [
    "train_df.head() "
   ]
  },
  {
   "cell_type": "code",
   "execution_count": 845,
   "metadata": {},
   "outputs": [
    {
     "data": {
      "text/html": [
       "<div>\n",
       "<style scoped>\n",
       "    .dataframe tbody tr th:only-of-type {\n",
       "        vertical-align: middle;\n",
       "    }\n",
       "\n",
       "    .dataframe tbody tr th {\n",
       "        vertical-align: top;\n",
       "    }\n",
       "\n",
       "    .dataframe thead th {\n",
       "        text-align: right;\n",
       "    }\n",
       "</style>\n",
       "<table border=\"1\" class=\"dataframe\">\n",
       "  <thead>\n",
       "    <tr style=\"text-align: right;\">\n",
       "      <th></th>\n",
       "      <th>depart commune</th>\n",
       "      <th>depart wilaya</th>\n",
       "      <th>stop desk?</th>\n",
       "      <th>destination commune</th>\n",
       "      <th>destination wilaya</th>\n",
       "      <th>first_delivery_time</th>\n",
       "      <th>pending_time</th>\n",
       "      <th>last_status_time</th>\n",
       "      <th>expediteur_freq</th>\n",
       "    </tr>\n",
       "  </thead>\n",
       "  <tbody>\n",
       "    <tr>\n",
       "      <th>count</th>\n",
       "      <td>271481.000000</td>\n",
       "      <td>271481.000000</td>\n",
       "      <td>271481.000000</td>\n",
       "      <td>271481.000000</td>\n",
       "      <td>271481.000000</td>\n",
       "      <td>270360.000000</td>\n",
       "      <td>270332.000000</td>\n",
       "      <td>270332.000000</td>\n",
       "      <td>271481.000000</td>\n",
       "    </tr>\n",
       "    <tr>\n",
       "      <th>mean</th>\n",
       "      <td>58.248459</td>\n",
       "      <td>14.024690</td>\n",
       "      <td>0.533750</td>\n",
       "      <td>659.891908</td>\n",
       "      <td>21.045325</td>\n",
       "      <td>36.745926</td>\n",
       "      <td>16.552374</td>\n",
       "      <td>22.965996</td>\n",
       "      <td>1653.020451</td>\n",
       "    </tr>\n",
       "    <tr>\n",
       "      <th>std</th>\n",
       "      <td>29.989824</td>\n",
       "      <td>15.190328</td>\n",
       "      <td>0.498861</td>\n",
       "      <td>407.222462</td>\n",
       "      <td>15.227218</td>\n",
       "      <td>28.449862</td>\n",
       "      <td>27.075329</td>\n",
       "      <td>67.850643</td>\n",
       "      <td>4373.668497</td>\n",
       "    </tr>\n",
       "    <tr>\n",
       "      <th>min</th>\n",
       "      <td>0.000000</td>\n",
       "      <td>0.000000</td>\n",
       "      <td>0.000000</td>\n",
       "      <td>0.000000</td>\n",
       "      <td>0.000000</td>\n",
       "      <td>0.005556</td>\n",
       "      <td>0.000000</td>\n",
       "      <td>-12.736667</td>\n",
       "      <td>1.000000</td>\n",
       "    </tr>\n",
       "    <tr>\n",
       "      <th>25%</th>\n",
       "      <td>34.000000</td>\n",
       "      <td>1.000000</td>\n",
       "      <td>0.000000</td>\n",
       "      <td>305.000000</td>\n",
       "      <td>6.000000</td>\n",
       "      <td>19.920000</td>\n",
       "      <td>0.000000</td>\n",
       "      <td>0.000000</td>\n",
       "      <td>24.000000</td>\n",
       "    </tr>\n",
       "    <tr>\n",
       "      <th>50%</th>\n",
       "      <td>60.000000</td>\n",
       "      <td>7.000000</td>\n",
       "      <td>1.000000</td>\n",
       "      <td>603.000000</td>\n",
       "      <td>20.000000</td>\n",
       "      <td>24.508750</td>\n",
       "      <td>1.590556</td>\n",
       "      <td>0.000000</td>\n",
       "      <td>81.000000</td>\n",
       "    </tr>\n",
       "    <tr>\n",
       "      <th>75%</th>\n",
       "      <td>87.000000</td>\n",
       "      <td>31.000000</td>\n",
       "      <td>1.000000</td>\n",
       "      <td>1022.000000</td>\n",
       "      <td>34.000000</td>\n",
       "      <td>45.214514</td>\n",
       "      <td>25.193611</td>\n",
       "      <td>0.000000</td>\n",
       "      <td>291.000000</td>\n",
       "    </tr>\n",
       "    <tr>\n",
       "      <th>max</th>\n",
       "      <td>115.000000</td>\n",
       "      <td>47.000000</td>\n",
       "      <td>1.000000</td>\n",
       "      <td>1364.000000</td>\n",
       "      <td>47.000000</td>\n",
       "      <td>718.971389</td>\n",
       "      <td>585.868889</td>\n",
       "      <td>700.562500</td>\n",
       "      <td>17384.000000</td>\n",
       "    </tr>\n",
       "  </tbody>\n",
       "</table>\n",
       "</div>"
      ],
      "text/plain": [
       "       depart commune  depart wilaya     stop desk?  destination commune  \\\n",
       "count   271481.000000  271481.000000  271481.000000        271481.000000   \n",
       "mean        58.248459      14.024690       0.533750           659.891908   \n",
       "std         29.989824      15.190328       0.498861           407.222462   \n",
       "min          0.000000       0.000000       0.000000             0.000000   \n",
       "25%         34.000000       1.000000       0.000000           305.000000   \n",
       "50%         60.000000       7.000000       1.000000           603.000000   \n",
       "75%         87.000000      31.000000       1.000000          1022.000000   \n",
       "max        115.000000      47.000000       1.000000          1364.000000   \n",
       "\n",
       "       destination wilaya  first_delivery_time   pending_time  \\\n",
       "count       271481.000000        270360.000000  270332.000000   \n",
       "mean            21.045325            36.745926      16.552374   \n",
       "std             15.227218            28.449862      27.075329   \n",
       "min              0.000000             0.005556       0.000000   \n",
       "25%              6.000000            19.920000       0.000000   \n",
       "50%             20.000000            24.508750       1.590556   \n",
       "75%             34.000000            45.214514      25.193611   \n",
       "max             47.000000           718.971389     585.868889   \n",
       "\n",
       "       last_status_time  expediteur_freq  \n",
       "count     270332.000000    271481.000000  \n",
       "mean          22.965996      1653.020451  \n",
       "std           67.850643      4373.668497  \n",
       "min          -12.736667         1.000000  \n",
       "25%            0.000000        24.000000  \n",
       "50%            0.000000        81.000000  \n",
       "75%            0.000000       291.000000  \n",
       "max          700.562500     17384.000000  "
      ]
     },
     "execution_count": 845,
     "metadata": {},
     "output_type": "execute_result"
    }
   ],
   "source": [
    "# Detect outliers\n",
    "train_df.describe()"
   ]
  },
  {
   "cell_type": "code",
   "execution_count": 57,
   "metadata": {},
   "outputs": [],
   "source": [
    "X = train_df.drop('dernier statut', axis=1)\n",
    "y = train_df['dernier statut']"
   ]
  },
  {
   "cell_type": "markdown",
   "metadata": {},
   "source": [
    "#### Impute missing values"
   ]
  },
  {
   "cell_type": "code",
   "execution_count": 58,
   "metadata": {},
   "outputs": [],
   "source": [
    "dff = X\n",
    "imputer = IterativeImputer(random_state=0)\n",
    "imputed_df = imputer.fit_transform(dff)\n",
    "imputed_df = pd.DataFrame(imputed_df, columns=dff.columns)\n",
    "XX = imputed_df"
   ]
  },
  {
   "cell_type": "code",
   "execution_count": 59,
   "metadata": {},
   "outputs": [
    {
     "data": {
      "text/plain": [
       "(271481, 9)"
      ]
     },
     "execution_count": 59,
     "metadata": {},
     "output_type": "execute_result"
    }
   ],
   "source": [
    "XX.shape"
   ]
  },
  {
   "cell_type": "code",
   "execution_count": 65,
   "metadata": {},
   "outputs": [
    {
     "data": {
      "image/png": "[encoded data removed]",
      "text/plain": [
       "<Figure size 1000x800 with 2 Axes>"
      ]
     },
     "metadata": {},
     "output_type": "display_data"
    }
   ],
   "source": [
    "corr_matrix = XX.corr()\n",
    "plt.figure(figsize=(10,8))\n",
    "sns.heatmap(corr_matrix, annot=True, cmap='coolwarm')\n",
    "plt.show()"
   ]
  },
  {
   "cell_type": "markdown",
   "metadata": {},
   "source": [
    "# Training & Evaluation"
   ]
  },
  {
   "cell_type": "markdown",
   "metadata": {},
   "source": [
    "#### Data splitting"
   ]
  },
  {
   "cell_type": "code",
   "execution_count": 66,
   "metadata": {},
   "outputs": [],
   "source": [
    "X_train, X_test, y_train, y_test = train_test_split(XX, y, test_size=0.2, random_state=42)"
   ]
  },
  {
   "cell_type": "markdown",
   "metadata": {},
   "source": [
    "#### Setting up the models"
   ]
  },
  {
   "cell_type": "code",
   "execution_count": 73,
   "metadata": {},
   "outputs": [],
   "source": [
    "Models = [\n",
    "    Pipeline([\n",
    "        ('scaler', StandardScaler()),\n",
    "        ('classifier', LogisticRegression())\n",
    "    ]),\n",
    "    Pipeline([\n",
    "        ('scaler', StandardScaler()),\n",
    "        ('classifier', DecisionTreeClassifier())\n",
    "    ]),\n",
    "    Pipeline([\n",
    "        ('scaler', StandardScaler()),\n",
    "        ('classifier', RandomForestClassifier())\n",
    "    ]),\n",
    "]\n",
    "Models_names = ['Logistic Regression', 'Decision Tree', 'Random Forest']"
   ]
  },
  {
   "cell_type": "markdown",
   "metadata": {},
   "source": [
    "#### Train the models"
   ]
  },
  {
   "cell_type": "code",
   "execution_count": 74,
   "metadata": {},
   "outputs": [
    {
     "name": "stdout",
     "output_type": "stream",
     "text": [
      "Training the: Logistic Regression model...\n",
      " • Train accuracy: 0.9903309575114647\n",
      " • Train f1_score: 0.6567953880805817\n",
      "Training the: Decision Tree model...\n",
      " • Train accuracy: 0.9989318010203142\n",
      " • Train f1_score: 0.9715993872245718\n",
      "Training the: Random Forest model...\n",
      " • Train accuracy: 0.9990975560344034\n",
      " • Train f1_score: 0.9747453539753645\n",
      "Done!\n"
     ]
    }
   ],
   "source": [
    "for index, model in enumerate(Models):\n",
    "    print(f\"Training the: {Models_names[index]} model...\")\n",
    "    model.fit(X_train, y_train)\n",
    "    y_pred = model.predict(X_test)\n",
    "    print(f\" • Train accuracy: {accuracy_score(y_test, y_pred)}\")\n",
    "    print(f\" • Train f1_score: {f1_score(y_test, y_pred, average='macro')}\")\n",
    "\n",
    "print('Done!')"
   ]
  },
  {
   "cell_type": "markdown",
   "metadata": {},
   "source": [
    "# Testing the model"
   ]
  },
  {
   "cell_type": "markdown",
   "metadata": {},
   "source": [
    "#### Loading the test set"
   ]
  },
  {
   "cell_type": "code",
   "execution_count": 80,
   "metadata": {},
   "outputs": [],
   "source": [
    "test_df = pd.read_csv(\"data/test.csv\")"
   ]
  },
  {
   "cell_type": "markdown",
   "metadata": {},
   "source": [
    "#### Preprocessing"
   ]
  },
  {
   "cell_type": "code",
   "execution_count": 81,
   "metadata": {},
   "outputs": [
    {
     "data": {
      "text/plain": [
       "Tracking                     0\n",
       "date expédition              0\n",
       "date première tentative    288\n",
       "date livraison/échec       296\n",
       "date dernier statut          0\n",
       "ID expediteur                0\n",
       "depart commune               0\n",
       "depart wilaya                0\n",
       "stop desk?                   0\n",
       "destination commune          0\n",
       "destination wilaya           0\n",
       "dtype: int64"
      ]
     },
     "execution_count": 81,
     "metadata": {},
     "output_type": "execute_result"
    }
   ],
   "source": [
    "test_df.isnull().sum()"
   ]
  },
  {
   "cell_type": "code",
   "execution_count": 82,
   "metadata": {},
   "outputs": [],
   "source": [
    "test_df.replace(depart_mapping_dict, inplace=True)\n",
    "test_df.replace(dest_mapping_dict, inplace=True)"
   ]
  },
  {
   "cell_type": "code",
   "execution_count": 83,
   "metadata": {},
   "outputs": [],
   "source": [
    "test_df['date expédition'] = pd.to_datetime(test_df['date expédition'])\n",
    "test_df['date dernier statut'] = pd.to_datetime(test_df['date dernier statut'])\n",
    "test_df['date première tentative'] = pd.to_datetime(test_df['date première tentative'])\n",
    "test_df['date livraison/échec'] = pd.to_datetime(test_df['date livraison/échec'])\n"
   ]
  },
  {
   "cell_type": "code",
   "execution_count": 84,
   "metadata": {},
   "outputs": [],
   "source": [
    "test_df['first_delivery_time'] = (test_df['date première tentative'] - test_df['date expédition']).dt.total_seconds() / 3600"
   ]
  },
  {
   "cell_type": "code",
   "execution_count": 85,
   "metadata": {},
   "outputs": [],
   "source": [
    "test_df['pending_time'] = (test_df['date livraison/échec'] - test_df['date première tentative']).dt.total_seconds() / 3600"
   ]
  },
  {
   "cell_type": "code",
   "execution_count": 86,
   "metadata": {},
   "outputs": [],
   "source": [
    "test_df['last_status_time'] = (test_df['date dernier statut'] - test_df['date livraison/échec']).dt.total_seconds() / 3600"
   ]
  },
  {
   "cell_type": "code",
   "execution_count": 87,
   "metadata": {},
   "outputs": [],
   "source": [
    "test_df = test_df.drop(['Tracking', 'ID expediteur', 'date expédition', 'date première tentative', 'date livraison/échec', 'date dernier statut'], axis=1)"
   ]
  },
  {
   "cell_type": "code",
   "execution_count": 88,
   "metadata": {},
   "outputs": [
    {
     "data": {
      "text/plain": [
       "depart commune           0\n",
       "depart wilaya            0\n",
       "stop desk?               0\n",
       "destination commune      0\n",
       "destination wilaya       0\n",
       "first_delivery_time    288\n",
       "pending_time           296\n",
       "last_status_time       296\n",
       "dtype: int64"
      ]
     },
     "execution_count": 88,
     "metadata": {},
     "output_type": "execute_result"
    }
   ],
   "source": [
    "test_df.isna().sum()"
   ]
  },
  {
   "cell_type": "code",
   "execution_count": 89,
   "metadata": {},
   "outputs": [
    {
     "data": {
      "text/html": [
       "<div>\n",
       "<style scoped>\n",
       "    .dataframe tbody tr th:only-of-type {\n",
       "        vertical-align: middle;\n",
       "    }\n",
       "\n",
       "    .dataframe tbody tr th {\n",
       "        vertical-align: top;\n",
       "    }\n",
       "\n",
       "    .dataframe thead th {\n",
       "        text-align: right;\n",
       "    }\n",
       "</style>\n",
       "<table border=\"1\" class=\"dataframe\">\n",
       "  <thead>\n",
       "    <tr style=\"text-align: right;\">\n",
       "      <th></th>\n",
       "      <th>depart commune</th>\n",
       "      <th>depart wilaya</th>\n",
       "      <th>stop desk?</th>\n",
       "      <th>destination commune</th>\n",
       "      <th>destination wilaya</th>\n",
       "      <th>first_delivery_time</th>\n",
       "      <th>pending_time</th>\n",
       "      <th>last_status_time</th>\n",
       "    </tr>\n",
       "  </thead>\n",
       "  <tbody>\n",
       "    <tr>\n",
       "      <th>0</th>\n",
       "      <td>Bou Saâda</td>\n",
       "      <td>M’Sila</td>\n",
       "      <td>non</td>\n",
       "      <td>Les Eucalyptus</td>\n",
       "      <td>Algiers</td>\n",
       "      <td>47.551389</td>\n",
       "      <td>0.000000</td>\n",
       "      <td>0.0</td>\n",
       "    </tr>\n",
       "    <tr>\n",
       "      <th>1</th>\n",
       "      <td>El Eulma</td>\n",
       "      <td>Sétif</td>\n",
       "      <td>non</td>\n",
       "      <td>Tazoult</td>\n",
       "      <td>Batna</td>\n",
       "      <td>49.431667</td>\n",
       "      <td>0.000000</td>\n",
       "      <td>0.0</td>\n",
       "    </tr>\n",
       "    <tr>\n",
       "      <th>2</th>\n",
       "      <td>Oued Smar</td>\n",
       "      <td>Algiers</td>\n",
       "      <td>non</td>\n",
       "      <td>Saïda</td>\n",
       "      <td>Saïda</td>\n",
       "      <td>16.350000</td>\n",
       "      <td>0.000000</td>\n",
       "      <td>0.0</td>\n",
       "    </tr>\n",
       "    <tr>\n",
       "      <th>3</th>\n",
       "      <td>Oued Smar</td>\n",
       "      <td>Algiers</td>\n",
       "      <td>non</td>\n",
       "      <td>Annaba</td>\n",
       "      <td>Annaba</td>\n",
       "      <td>17.649444</td>\n",
       "      <td>0.000000</td>\n",
       "      <td>0.0</td>\n",
       "    </tr>\n",
       "    <tr>\n",
       "      <th>4</th>\n",
       "      <td>Oued Smar</td>\n",
       "      <td>Algiers</td>\n",
       "      <td>non</td>\n",
       "      <td>Aïn El Hadjel</td>\n",
       "      <td>M’Sila</td>\n",
       "      <td>16.803889</td>\n",
       "      <td>5.763889</td>\n",
       "      <td>0.0</td>\n",
       "    </tr>\n",
       "  </tbody>\n",
       "</table>\n",
       "</div>"
      ],
      "text/plain": [
       "  depart commune depart wilaya stop desk? destination commune  \\\n",
       "0      Bou Saâda        M’Sila        non      Les Eucalyptus   \n",
       "1       El Eulma         Sétif        non             Tazoult   \n",
       "2      Oued Smar       Algiers        non               Saïda   \n",
       "3      Oued Smar       Algiers        non              Annaba   \n",
       "4      Oued Smar       Algiers        non       Aïn El Hadjel   \n",
       "\n",
       "  destination wilaya  first_delivery_time  pending_time  last_status_time  \n",
       "0            Algiers            47.551389      0.000000               0.0  \n",
       "1              Batna            49.431667      0.000000               0.0  \n",
       "2              Saïda            16.350000      0.000000               0.0  \n",
       "3             Annaba            17.649444      0.000000               0.0  \n",
       "4             M’Sila            16.803889      5.763889               0.0  "
      ]
     },
     "execution_count": 89,
     "metadata": {},
     "output_type": "execute_result"
    }
   ],
   "source": [
    "test_df.head()"
   ]
  },
  {
   "cell_type": "code",
   "execution_count": 90,
   "metadata": {},
   "outputs": [],
   "source": [
    "label_encoder = LabelEncoder()\n",
    "test_df['depart wilaya'] = label_encoder.fit_transform(test_df['depart wilaya'])\n",
    "test_df['destination wilaya'] = label_encoder.fit_transform(test_df['destination wilaya'])\n",
    "test_df['depart commune'] = label_encoder.fit_transform(test_df['depart commune'])\n",
    "test_df['destination commune'] = label_encoder.fit_transform(test_df['destination commune'])\n",
    "test_df['stop desk?'] = label_encoder.fit_transform(test_df['stop desk?'])"
   ]
  },
  {
   "cell_type": "code",
   "execution_count": 94,
   "metadata": {},
   "outputs": [],
   "source": [
    "df = pd.read_csv(\"data/test.csv\")"
   ]
  },
  {
   "cell_type": "code",
   "execution_count": 95,
   "metadata": {},
   "outputs": [
    {
     "data": {
      "text/plain": [
       "depart commune           0\n",
       "depart wilaya            0\n",
       "stop desk?               0\n",
       "destination commune      0\n",
       "destination wilaya       0\n",
       "first_delivery_time    288\n",
       "pending_time           296\n",
       "last_status_time       296\n",
       "dtype: int64"
      ]
     },
     "execution_count": 95,
     "metadata": {},
     "output_type": "execute_result"
    }
   ],
   "source": [
    "test_df.isna().sum()"
   ]
  },
  {
   "cell_type": "code",
   "execution_count": 96,
   "metadata": {},
   "outputs": [
    {
     "data": {
      "text/plain": [
       "((67871, 8), (67871, 11))"
      ]
     },
     "execution_count": 96,
     "metadata": {},
     "output_type": "execute_result"
    }
   ],
   "source": [
    "test_df.shape , df.shape"
   ]
  },
  {
   "cell_type": "code",
   "execution_count": 97,
   "metadata": {},
   "outputs": [],
   "source": [
    "merged_df = pd.concat([X, test_df], axis=0)\n",
    "imputer = IterativeImputer(random_state=0)\n",
    "imputed_df = imputer.fit_transform(merged_df)\n",
    "imputed_df = pd.DataFrame(imputed_df, columns=merged_df.columns)\n",
    "test_df = imputed_df.iloc[X.shape[0]:, :]"
   ]
  },
  {
   "cell_type": "code",
   "execution_count": 98,
   "metadata": {},
   "outputs": [
    {
     "data": {
      "text/plain": [
       "(67871, 9)"
      ]
     },
     "execution_count": 98,
     "metadata": {},
     "output_type": "execute_result"
    }
   ],
   "source": [
    "test_df.shape"
   ]
  },
  {
   "cell_type": "code",
   "execution_count": 99,
   "metadata": {},
   "outputs": [
    {
     "data": {
      "text/plain": [
       "depart commune         0\n",
       "depart wilaya          0\n",
       "stop desk?             0\n",
       "destination commune    0\n",
       "destination wilaya     0\n",
       "first_delivery_time    0\n",
       "pending_time           0\n",
       "last_status_time       0\n",
       "expediteur_freq        0\n",
       "dtype: int64"
      ]
     },
     "execution_count": 99,
     "metadata": {},
     "output_type": "execute_result"
    }
   ],
   "source": [
    "test_df.isna().sum()"
   ]
  },
  {
   "cell_type": "markdown",
   "metadata": {},
   "source": [
    "#### Predict the labels on the test set"
   ]
  },
  {
   "cell_type": "code",
   "execution_count": 100,
   "metadata": {},
   "outputs": [],
   "source": [
    "submit = pd.DataFrame()\n",
    "submit['Tracking'] = df['Tracking']\n",
    "y_pred = Models[2].fit(XX, y).predict(test_df)\n",
    "submit['dernier statut'] = y_pred"
   ]
  },
  {
   "cell_type": "code",
   "execution_count": 102,
   "metadata": {},
   "outputs": [
    {
     "data": {
      "text/plain": [
       "Tracking       dernier statut     \n",
       "yal-ABC000004  Livré                  1\n",
       "yal-ABC227502  Livré                  1\n",
       "yal-ABC227429  Retourné au vendeur    1\n",
       "yal-ABC227438  Retourné au vendeur    1\n",
       "yal-ABC227444  Retourné au vendeur    1\n",
       "                                     ..\n",
       "yal-ABC113910  Retourné au vendeur    1\n",
       "yal-ABC113919  Retourné au vendeur    1\n",
       "yal-ABC113935  Livré                  1\n",
       "yal-ABC113937  Livré                  1\n",
       "yal-ABC349558  Retourné au vendeur    1\n",
       "Name: count, Length: 67871, dtype: int64"
      ]
     },
     "execution_count": 102,
     "metadata": {},
     "output_type": "execute_result"
    }
   ],
   "source": [
    "submit.value_counts()"
   ]
  },
  {
   "cell_type": "code",
   "execution_count": 103,
   "metadata": {},
   "outputs": [
    {
     "data": {
      "text/plain": [
       "array(['Livré', 'Retourné au vendeur'], dtype=object)"
      ]
     },
     "execution_count": 103,
     "metadata": {},
     "output_type": "execute_result"
    }
   ],
   "source": [
    "submit['dernier statut'].unique()"
   ]
  },
  {
   "cell_type": "code",
   "execution_count": 104,
   "metadata": {},
   "outputs": [
    {
     "data": {
      "text/plain": [
       "dernier statut\n",
       "Livré                  59119\n",
       "Retourné au vendeur     8752\n",
       "Name: count, dtype: int64"
      ]
     },
     "execution_count": 104,
     "metadata": {},
     "output_type": "execute_result"
    }
   ],
   "source": [
    "submit['dernier statut'].value_counts()"
   ]
  },
  {
   "cell_type": "code",
   "execution_count": 822,
   "metadata": {},
   "outputs": [],
   "source": [
    "submit.to_csv(\"submit.csv\", index=False)"
   ]
  }
 ],
 "metadata": {
  "kernelspec": {
   "display_name": "Python 3",
   "language": "python",
   "name": "python3"
  },
  "language_info": {
   "codemirror_mode": {
    "name": "ipython",
    "version": 3
   },
   "file_extension": ".py",
   "mimetype": "text/x-python",
   "name": "python",
   "nbconvert_exporter": "python",
   "pygments_lexer": "ipython3",
   "version": "3.12.1"
  }
 },
 "nbformat": 4,
 "nbformat_minor": 2
}
