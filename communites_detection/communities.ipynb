{
 "cells": [
  {
   "cell_type": "code",
   "execution_count": 1,
   "id": "681391b0-2dea-44ed-9192-05ebe49e94a8",
   "metadata": {},
   "outputs": [],
   "source": [
    "import networkx as nx\n",
    "import community as community_louvain\n",
    "from sklearn.metrics import silhouette_score\n",
    "from node2vec import Node2Vec\n",
    "import pandas as pd\n",
    "import numpy as np\n",
    "import matplotlib.pyplot as plt\n"
   ]
  },
  {
   "cell_type": "code",
   "execution_count": 2,
   "id": "2cfcf69c",
   "metadata": {},
   "outputs": [],
   "source": [
    "G = nx.read_edgelist(\"graph.net\", create_using=nx.Graph(), nodetype=int)"
   ]
  },
  {
   "cell_type": "code",
   "execution_count": 3,
   "id": "f30aadcd",
   "metadata": {},
   "outputs": [
    {
     "data": {
      "image/png": "[encoded data removed]",
      "text/plain": [
       "<Figure size 640x480 with 1 Axes>"
      ]
     },
     "metadata": {},
     "output_type": "display_data"
    }
   ],
   "source": [
    "#plot the nodes and the number of their connections\n",
    "plt.hist(list(dict(G.degree()).values()), bins=100)\n",
    "plt.show()\n"
   ]
  },
  {
   "cell_type": "code",
   "execution_count": 104,
   "id": "1c6a1e9f",
   "metadata": {},
   "outputs": [
    {
     "name": "stdout",
     "output_type": "stream",
     "text": [
      "1\n",
      "2\n",
      "3\n",
      "4\n",
      "5\n",
      "6\n",
      "7\n",
      "8\n",
      "9\n"
     ]
    }
   ],
   "source": [
    "#make subgraph for each degree from 1 to 10\n",
    "subgraphs = []\n",
    "fd = 10\n",
    "for i in range(1, fd):\n",
    "    subgraphs.append(G.subgraph([node for node, degree in dict(G.degree()).items() if degree == i]))\n",
    "    print(i)\n",
    "\n",
    "sg = G.subgraph([n for n, d in G.degree() if d >= fd])\n",
    "subgraphs.append(sg)"
   ]
  },
  {
   "cell_type": "code",
   "execution_count": 112,
   "id": "433be345",
   "metadata": {},
   "outputs": [],
   "source": [
    "import networkx.algorithms.community.label_propagation as lp\n",
    "from networkx.algorithms.community import greedy_modularity_communities\n",
    "from networkx.algorithms.community import louvain_communities, asyn_fluidc"
   ]
  },
  {
   "cell_type": "code",
   "execution_count": 106,
   "id": "10516ade",
   "metadata": {},
   "outputs": [],
   "source": [
    "def get_communities(G):\n",
    "    communities = asyn_fluidc(G, 10)\n",
    "    return list(communities)"
   ]
  },
  {
   "cell_type": "code",
   "execution_count": 107,
   "id": "84a4d822",
   "metadata": {},
   "outputs": [],
   "source": [
    "dic = {}\n",
    "for i, sg in enumerate(subgraphs):\n",
    "    communities = get_communities(sg)\n",
    "    dic[f'sg{i}'] = communities"
   ]
  },
  {
   "cell_type": "code",
   "execution_count": 108,
   "metadata": {},
   "outputs": [],
   "source": [
    "#save to df node_id, community_id\n",
    "def save_to_df(communities):\n",
    "    data = []\n",
    "    for i, c in enumerate(communities):\n",
    "        for node in c:\n",
    "            data.append([node, i+1])\n",
    "    return pd.DataFrame(data, columns=['id', 'community'])"
   ]
  },
  {
   "cell_type": "code",
   "execution_count": 109,
   "id": "7de37614",
   "metadata": {},
   "outputs": [
    {
     "name": "stdout",
     "output_type": "stream",
     "text": [
      "10\n"
     ]
    }
   ],
   "source": [
    "dfs = []\n",
    "for key, value in dic.items():\n",
    "    df = save_to_df(value)\n",
    "    dfs.append(df)\n",
    "\n",
    "print(len(dfs))"
   ]
  },
  {
   "cell_type": "code",
   "execution_count": 110,
   "id": "c7bd8a89",
   "metadata": {},
   "outputs": [
    {
     "data": {
      "text/html": [
       "<div>\n",
       "<style scoped>\n",
       "    .dataframe tbody tr th:only-of-type {\n",
       "        vertical-align: middle;\n",
       "    }\n",
       "\n",
       "    .dataframe tbody tr th {\n",
       "        vertical-align: top;\n",
       "    }\n",
       "\n",
       "    .dataframe thead th {\n",
       "        text-align: right;\n",
       "    }\n",
       "</style>\n",
       "<table border=\"1\" class=\"dataframe\">\n",
       "  <thead>\n",
       "    <tr style=\"text-align: right;\">\n",
       "      <th></th>\n",
       "      <th>id</th>\n",
       "      <th>community</th>\n",
       "    </tr>\n",
       "  </thead>\n",
       "  <tbody>\n",
       "    <tr>\n",
       "      <th>0</th>\n",
       "      <td>1</td>\n",
       "      <td>1</td>\n",
       "    </tr>\n",
       "    <tr>\n",
       "      <th>1</th>\n",
       "      <td>2</td>\n",
       "      <td>2</td>\n",
       "    </tr>\n",
       "    <tr>\n",
       "      <th>219</th>\n",
       "      <td>3</td>\n",
       "      <td>7</td>\n",
       "    </tr>\n",
       "    <tr>\n",
       "      <th>2</th>\n",
       "      <td>4</td>\n",
       "      <td>3</td>\n",
       "    </tr>\n",
       "    <tr>\n",
       "      <th>111</th>\n",
       "      <td>5</td>\n",
       "      <td>3</td>\n",
       "    </tr>\n",
       "    <tr>\n",
       "      <th>...</th>\n",
       "      <td>...</td>\n",
       "      <td>...</td>\n",
       "    </tr>\n",
       "    <tr>\n",
       "      <th>111</th>\n",
       "      <td>2357</td>\n",
       "      <td>106</td>\n",
       "    </tr>\n",
       "    <tr>\n",
       "      <th>102</th>\n",
       "      <td>2358</td>\n",
       "      <td>102</td>\n",
       "    </tr>\n",
       "    <tr>\n",
       "      <th>201</th>\n",
       "      <td>2359</td>\n",
       "      <td>5</td>\n",
       "    </tr>\n",
       "    <tr>\n",
       "      <th>183</th>\n",
       "      <td>2360</td>\n",
       "      <td>184</td>\n",
       "    </tr>\n",
       "    <tr>\n",
       "      <th>185</th>\n",
       "      <td>2361</td>\n",
       "      <td>186</td>\n",
       "    </tr>\n",
       "  </tbody>\n",
       "</table>\n",
       "<p>2361 rows × 2 columns</p>\n",
       "</div>"
      ],
      "text/plain": [
       "       id  community\n",
       "0       1          1\n",
       "1       2          2\n",
       "219     3          7\n",
       "2       4          3\n",
       "111     5          3\n",
       "..    ...        ...\n",
       "111  2357        106\n",
       "102  2358        102\n",
       "201  2359          5\n",
       "183  2360        184\n",
       "185  2361        186\n",
       "\n",
       "[2361 rows x 2 columns]"
      ]
     },
     "execution_count": 110,
     "metadata": {},
     "output_type": "execute_result"
    }
   ],
   "source": [
    "#concatenate all dfs\n",
    "df = pd.concat(dfs)\n",
    "#sort by node\n",
    "df = df.sort_values(by=['id'])\n",
    "df"
   ]
  },
  {
   "cell_type": "code",
   "execution_count": 111,
   "id": "00ec8f25",
   "metadata": {},
   "outputs": [],
   "source": [
    "#save the results to a csv\n",
    "df.to_csv('communities10.csv', index=False)\n"
   ]
  },
  {
   "cell_type": "code",
   "execution_count": null,
   "id": "a9912e8d",
   "metadata": {},
   "outputs": [],
   "source": []
  },
  {
   "cell_type": "code",
   "execution_count": null,
   "id": "ae9dbda9",
   "metadata": {},
   "outputs": [],
   "source": []
  },
  {
   "cell_type": "code",
   "execution_count": null,
   "id": "72de7910",
   "metadata": {},
   "outputs": [],
   "source": []
  },
  {
   "cell_type": "code",
   "execution_count": null,
   "id": "46c196da",
   "metadata": {},
   "outputs": [],
   "source": []
  },
  {
   "cell_type": "code",
   "execution_count": null,
   "id": "2b88a38a",
   "metadata": {},
   "outputs": [],
   "source": []
  },
  {
   "cell_type": "code",
   "execution_count": null,
   "id": "aafcbc29",
   "metadata": {},
   "outputs": [],
   "source": []
  },
  {
   "cell_type": "code",
   "execution_count": null,
   "id": "498b9a9f",
   "metadata": {},
   "outputs": [],
   "source": []
  }
 ],
 "metadata": {
  "kernelspec": {
   "display_name": "Python 3 (ipykernel)",
   "language": "python",
   "name": "python3"
  },
  "language_info": {
   "codemirror_mode": {
    "name": "ipython",
    "version": 3
   },
   "file_extension": ".py",
   "mimetype": "text/x-python",
   "name": "python",
   "nbconvert_exporter": "python",
   "pygments_lexer": "ipython3",
   "version": "3.9.13"
  }
 },
 "nbformat": 4,
 "nbformat_minor": 5
}
