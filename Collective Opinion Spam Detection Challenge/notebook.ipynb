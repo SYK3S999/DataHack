{
 "cells": [
  {
   "cell_type": "code",
   "execution_count": 650,
   "metadata": {},
   "outputs": [],
   "source": [
    "import pandas as pd\n",
    "import numpy as np\n",
    "import seaborn as sns\n",
    "import os\n",
    "import string\n",
    "import re\n",
    "from unidecode import unidecode\n",
    "import pandas as pd\n",
    "import nltk\n",
    "from bs4 import BeautifulSoup\n",
    "from tqdm.notebook import tqdm\n",
    "from textblob import Word\n",
    "from sklearn.preprocessing import LabelEncoder\n",
    "from xgboost import XGBClassifier\n",
    "from imblearn.over_sampling import SMOTE,ADASYN\n",
    "from imblearn.pipeline import Pipeline\n",
    "from sklearn.model_selection import train_test_split\n",
    "from sklearn.metrics import accuracy_score,f1_score,recall_score,precision_score\n",
    "from sklearn.decomposition import TruncatedSVD\n",
    "import optuna\n",
    "from sklearn.decomposition import TruncatedSVD\n",
    "from sklearn.feature_extraction.text import TfidfVectorizer,CountVectorizer\n",
    "from sklearn.ensemble import RandomForestClassifier\n",
    "from sklearn.linear_model import LogisticRegression\n",
    "from sklearn.preprocessing import MaxAbsScaler,StandardScaler,FunctionTransformer\n",
    "from sklearn.compose import ColumnTransformer\n",
    "from textblob import TextBlob"
   ]
  },
  {
   "cell_type": "code",
   "execution_count": 651,
   "metadata": {},
   "outputs": [],
   "source": [
    "tqdm.pandas()"
   ]
  },
  {
   "cell_type": "code",
   "execution_count": 652,
   "metadata": {},
   "outputs": [],
   "source": [
    "# setting LOKY_MAX_CPU_COUNT to the number of cores you want to use\n",
    "os.environ['LOKY_MAX_CPU_COUNT'] = '4'"
   ]
  },
  {
   "cell_type": "code",
   "execution_count": 653,
   "metadata": {},
   "outputs": [],
   "source": [
    "train_df = pd.read_csv(os.path.join(\".\",\"data\",\"training_data.csv\"))\n",
    "test_df = pd.read_csv(os.path.join(\".\",\"data\",\"testing_data.csv\"))"
   ]
  },
  {
   "cell_type": "code",
   "execution_count": 654,
   "metadata": {},
   "outputs": [
    {
     "data": {
      "text/html": [
       "<div>\n",
       "<style scoped>\n",
       "    .dataframe tbody tr th:only-of-type {\n",
       "        vertical-align: middle;\n",
       "    }\n",
       "\n",
       "    .dataframe tbody tr th {\n",
       "        vertical-align: top;\n",
       "    }\n",
       "\n",
       "    .dataframe thead th {\n",
       "        text-align: right;\n",
       "    }\n",
       "</style>\n",
       "<table border=\"1\" class=\"dataframe\">\n",
       "  <thead>\n",
       "    <tr style=\"text-align: right;\">\n",
       "      <th></th>\n",
       "      <th>id</th>\n",
       "      <th>Date</th>\n",
       "      <th>review ID</th>\n",
       "      <th>reviewer ID</th>\n",
       "      <th>product ID</th>\n",
       "      <th>rating_Helpful</th>\n",
       "      <th>rating_Thanks</th>\n",
       "      <th>rating_LoveThis</th>\n",
       "      <th>rating_OhNo</th>\n",
       "      <th>reviews</th>\n",
       "      <th>Label</th>\n",
       "    </tr>\n",
       "  </thead>\n",
       "  <tbody>\n",
       "    <tr>\n",
       "      <th>0</th>\n",
       "      <td>0</td>\n",
       "      <td>5/17/2009</td>\n",
       "      <td>0dFa6egshOwhusL8aSMw-Q</td>\n",
       "      <td>8GC6cFcby0stKarnzL9i2w</td>\n",
       "      <td>dKcO9OQ44RPRlkWe-vToFA</td>\n",
       "      <td>0</td>\n",
       "      <td>0</td>\n",
       "      <td>0</td>\n",
       "      <td>4</td>\n",
       "      <td>Just got back from Shaw's. Great oysters. They...</td>\n",
       "      <td>Y</td>\n",
       "    </tr>\n",
       "    <tr>\n",
       "      <th>1</th>\n",
       "      <td>1</td>\n",
       "      <td>10/25/2011</td>\n",
       "      <td>htQgJ_Z0ADA_QHeKthfeFw</td>\n",
       "      <td>88KSdQ5IMdpCkOidmq1udg</td>\n",
       "      <td>NkOir65b_YAAQVlJR_zmJA</td>\n",
       "      <td>0</td>\n",
       "      <td>0</td>\n",
       "      <td>0</td>\n",
       "      <td>2</td>\n",
       "      <td>Back from friday &amp; saturday nite stays in King...</td>\n",
       "      <td>Y</td>\n",
       "    </tr>\n",
       "    <tr>\n",
       "      <th>2</th>\n",
       "      <td>2</td>\n",
       "      <td>8/23/2009</td>\n",
       "      <td>2RsvT8p0SuAC25bhAi3EIw</td>\n",
       "      <td>bMKlvA-zWF4jU3OJCVbVlA</td>\n",
       "      <td>cQnY_VneZisfUAqcbuEuKg</td>\n",
       "      <td>0</td>\n",
       "      <td>0</td>\n",
       "      <td>0</td>\n",
       "      <td>5</td>\n",
       "      <td>It is a beautiful Saturday afternoon and my wi...</td>\n",
       "      <td>N</td>\n",
       "    </tr>\n",
       "    <tr>\n",
       "      <th>3</th>\n",
       "      <td>3</td>\n",
       "      <td>10/28/2011</td>\n",
       "      <td>LM-zONQMUNnAuf6NBISrow</td>\n",
       "      <td>9DMoXd0afrTIdpcwcDDVsw</td>\n",
       "      <td>WBU0yq9J8qiYQfI_fh2P1Q</td>\n",
       "      <td>0</td>\n",
       "      <td>1</td>\n",
       "      <td>1</td>\n",
       "      <td>5</td>\n",
       "      <td>A friend told me about this place but I have t...</td>\n",
       "      <td>N</td>\n",
       "    </tr>\n",
       "    <tr>\n",
       "      <th>4</th>\n",
       "      <td>4</td>\n",
       "      <td>6/18/2010</td>\n",
       "      <td>-DoQeDcNYFdmhOYcgx2MjQ</td>\n",
       "      <td>PyUn2FeMuLdmyB6xxMe4NA</td>\n",
       "      <td>-pO0hsi0xlF4FwqLGJUizg</td>\n",
       "      <td>0</td>\n",
       "      <td>2</td>\n",
       "      <td>0</td>\n",
       "      <td>5</td>\n",
       "      <td>I went to Uncommon Ground for brunch on a Sund...</td>\n",
       "      <td>N</td>\n",
       "    </tr>\n",
       "  </tbody>\n",
       "</table>\n",
       "</div>"
      ],
      "text/plain": [
       "   id        Date               review ID             reviewer ID  \\\n",
       "0   0   5/17/2009  0dFa6egshOwhusL8aSMw-Q  8GC6cFcby0stKarnzL9i2w   \n",
       "1   1  10/25/2011  htQgJ_Z0ADA_QHeKthfeFw  88KSdQ5IMdpCkOidmq1udg   \n",
       "2   2   8/23/2009  2RsvT8p0SuAC25bhAi3EIw  bMKlvA-zWF4jU3OJCVbVlA   \n",
       "3   3  10/28/2011  LM-zONQMUNnAuf6NBISrow  9DMoXd0afrTIdpcwcDDVsw   \n",
       "4   4   6/18/2010  -DoQeDcNYFdmhOYcgx2MjQ  PyUn2FeMuLdmyB6xxMe4NA   \n",
       "\n",
       "               product ID  rating_Helpful  rating_Thanks  rating_LoveThis  \\\n",
       "0  dKcO9OQ44RPRlkWe-vToFA               0              0                0   \n",
       "1  NkOir65b_YAAQVlJR_zmJA               0              0                0   \n",
       "2  cQnY_VneZisfUAqcbuEuKg               0              0                0   \n",
       "3  WBU0yq9J8qiYQfI_fh2P1Q               0              1                1   \n",
       "4  -pO0hsi0xlF4FwqLGJUizg               0              2                0   \n",
       "\n",
       "   rating_OhNo                                            reviews Label  \n",
       "0            4  Just got back from Shaw's. Great oysters. They...     Y  \n",
       "1            2  Back from friday & saturday nite stays in King...     Y  \n",
       "2            5  It is a beautiful Saturday afternoon and my wi...     N  \n",
       "3            5  A friend told me about this place but I have t...     N  \n",
       "4            5  I went to Uncommon Ground for brunch on a Sund...     N  "
      ]
     },
     "execution_count": 654,
     "metadata": {},
     "output_type": "execute_result"
    }
   ],
   "source": [
    "train_df.head()"
   ]
  },
  {
   "cell_type": "code",
   "execution_count": 655,
   "metadata": {},
   "outputs": [
    {
     "name": "stdout",
     "output_type": "stream",
     "text": [
      "Training shape: (47176, 11)\n",
      "Test shape: (20219, 10)\n"
     ]
    }
   ],
   "source": [
    "print(f'Training shape: {train_df.shape}')\n",
    "print(f'Test shape: {test_df.shape}')"
   ]
  },
  {
   "cell_type": "code",
   "execution_count": 656,
   "metadata": {},
   "outputs": [
    {
     "data": {
      "text/html": [
       "<div>\n",
       "<style scoped>\n",
       "    .dataframe tbody tr th:only-of-type {\n",
       "        vertical-align: middle;\n",
       "    }\n",
       "\n",
       "    .dataframe tbody tr th {\n",
       "        vertical-align: top;\n",
       "    }\n",
       "\n",
       "    .dataframe thead th {\n",
       "        text-align: right;\n",
       "    }\n",
       "</style>\n",
       "<table border=\"1\" class=\"dataframe\">\n",
       "  <thead>\n",
       "    <tr style=\"text-align: right;\">\n",
       "      <th></th>\n",
       "      <th>id</th>\n",
       "      <th>rating_Helpful</th>\n",
       "      <th>rating_Thanks</th>\n",
       "      <th>rating_LoveThis</th>\n",
       "      <th>rating_OhNo</th>\n",
       "    </tr>\n",
       "  </thead>\n",
       "  <tbody>\n",
       "    <tr>\n",
       "      <th>count</th>\n",
       "      <td>47176.000000</td>\n",
       "      <td>47176.000000</td>\n",
       "      <td>47176.000000</td>\n",
       "      <td>47176.000000</td>\n",
       "      <td>47176.000000</td>\n",
       "    </tr>\n",
       "    <tr>\n",
       "      <th>mean</th>\n",
       "      <td>23587.500000</td>\n",
       "      <td>0.454871</td>\n",
       "      <td>0.533852</td>\n",
       "      <td>0.842653</td>\n",
       "      <td>3.934352</td>\n",
       "    </tr>\n",
       "    <tr>\n",
       "      <th>std</th>\n",
       "      <td>13618.682486</td>\n",
       "      <td>1.645472</td>\n",
       "      <td>1.567664</td>\n",
       "      <td>1.930960</td>\n",
       "      <td>1.128047</td>\n",
       "    </tr>\n",
       "    <tr>\n",
       "      <th>min</th>\n",
       "      <td>0.000000</td>\n",
       "      <td>0.000000</td>\n",
       "      <td>0.000000</td>\n",
       "      <td>0.000000</td>\n",
       "      <td>1.000000</td>\n",
       "    </tr>\n",
       "    <tr>\n",
       "      <th>25%</th>\n",
       "      <td>11793.750000</td>\n",
       "      <td>0.000000</td>\n",
       "      <td>0.000000</td>\n",
       "      <td>0.000000</td>\n",
       "      <td>3.000000</td>\n",
       "    </tr>\n",
       "    <tr>\n",
       "      <th>50%</th>\n",
       "      <td>23587.500000</td>\n",
       "      <td>0.000000</td>\n",
       "      <td>0.000000</td>\n",
       "      <td>0.000000</td>\n",
       "      <td>4.000000</td>\n",
       "    </tr>\n",
       "    <tr>\n",
       "      <th>75%</th>\n",
       "      <td>35381.250000</td>\n",
       "      <td>0.000000</td>\n",
       "      <td>1.000000</td>\n",
       "      <td>1.000000</td>\n",
       "      <td>5.000000</td>\n",
       "    </tr>\n",
       "    <tr>\n",
       "      <th>max</th>\n",
       "      <td>47175.000000</td>\n",
       "      <td>78.000000</td>\n",
       "      <td>68.000000</td>\n",
       "      <td>78.000000</td>\n",
       "      <td>5.000000</td>\n",
       "    </tr>\n",
       "  </tbody>\n",
       "</table>\n",
       "</div>"
      ],
      "text/plain": [
       "                 id  rating_Helpful  rating_Thanks  rating_LoveThis  \\\n",
       "count  47176.000000    47176.000000   47176.000000     47176.000000   \n",
       "mean   23587.500000        0.454871       0.533852         0.842653   \n",
       "std    13618.682486        1.645472       1.567664         1.930960   \n",
       "min        0.000000        0.000000       0.000000         0.000000   \n",
       "25%    11793.750000        0.000000       0.000000         0.000000   \n",
       "50%    23587.500000        0.000000       0.000000         0.000000   \n",
       "75%    35381.250000        0.000000       1.000000         1.000000   \n",
       "max    47175.000000       78.000000      68.000000        78.000000   \n",
       "\n",
       "        rating_OhNo  \n",
       "count  47176.000000  \n",
       "mean       3.934352  \n",
       "std        1.128047  \n",
       "min        1.000000  \n",
       "25%        3.000000  \n",
       "50%        4.000000  \n",
       "75%        5.000000  \n",
       "max        5.000000  "
      ]
     },
     "execution_count": 656,
     "metadata": {},
     "output_type": "execute_result"
    }
   ],
   "source": [
    "train_df.describe()"
   ]
  },
  {
   "cell_type": "code",
   "execution_count": 657,
   "metadata": {},
   "outputs": [
    {
     "data": {
      "text/plain": [
       "id                 0\n",
       "Date               0\n",
       "review ID          0\n",
       "reviewer ID        0\n",
       "product ID         0\n",
       "rating_Helpful     0\n",
       "rating_Thanks      0\n",
       "rating_LoveThis    0\n",
       "rating_OhNo        0\n",
       "reviews            0\n",
       "Label              0\n",
       "dtype: int64"
      ]
     },
     "execution_count": 657,
     "metadata": {},
     "output_type": "execute_result"
    }
   ],
   "source": [
    "train_df.isnull().sum()"
   ]
  },
  {
   "cell_type": "code",
   "execution_count": 658,
   "metadata": {},
   "outputs": [
    {
     "data": {
      "text/plain": [
       "<Axes: xlabel='Label', ylabel='count'>"
      ]
     },
     "execution_count": 658,
     "metadata": {},
     "output_type": "execute_result"
    },
    {
     "data": {
      "image/png": "[encoded data removed]",
      "text/plain": [
       "<Figure size 640x480 with 1 Axes>"
      ]
     },
     "metadata": {},
     "output_type": "display_data"
    }
   ],
   "source": [
    "sns.countplot(data=train_df,x=\"Label\")"
   ]
  },
  {
   "cell_type": "code",
   "execution_count": 659,
   "metadata": {},
   "outputs": [],
   "source": [
    "train_df[\"Date\"] = pd.to_datetime(train_df[\"Date\"])"
   ]
  },
  {
   "cell_type": "code",
   "execution_count": 660,
   "metadata": {},
   "outputs": [],
   "source": [
    "train_df[\"langth\"] = train_df[\"reviews\"].apply(len)"
   ]
  },
  {
   "cell_type": "markdown",
   "metadata": {},
   "source": [
    "### Text Cleaning"
   ]
  },
  {
   "cell_type": "code",
   "execution_count": 590,
   "metadata": {},
   "outputs": [],
   "source": [
    "def handleRepetitive(sentence):\n",
    "    rx = re.compile(r'([^\\W\\d_])\\1{2,}')\n",
    "    return re.sub(r'[^\\W\\d_]+', lambda x: Word(rx.sub(r'\\1\\1', x.group())).correct() if rx.search(x.group()) else x.group(), sentence)\n",
    "\n",
    "def replaceHomoglyphs(text):\n",
    "    return unidecode(text)\n",
    "\n",
    "def remove_urls(text):\n",
    "    return re.sub(r'https?://\\S+|www\\.\\S+', '[URL]', text)\n",
    "\n",
    "def remove_html(text):\n",
    "    return BeautifulSoup(text, 'html.parser').get_text()\n",
    "\n",
    "def remove_emails(text):\n",
    "    canonical_email = re.sub(r'([a-zA-Z0-9_.+-]+@[a-zA-Z0-9-]+\\.[a-zA-Z0-9-.]+)','[EMAIL]', text)\n",
    "    return canonical_email\n",
    "\n",
    "def convertLowercase(text):\n",
    "    return text.lower()\n",
    "\n",
    "def remove_numbers(text):\n",
    "    return re.sub(r'\\d+', '[NUMBER]', text)\n",
    "\n",
    "stop_words = set(nltk.corpus.stopwords.words(\"english\"))\n",
    "def removeStopWords(text):\n",
    "    text = [word for word in text.split() if word not in stop_words]\n",
    "    return ' '.join(text)\n",
    "\n",
    "spetial_chars = string.punctuation\n",
    "escaped_chars = [re.escape(c) for c in spetial_chars]\n",
    "spetial_chars_regex = re.compile(f\"({'|'.join(escaped_chars)})\")\n",
    "\n",
    "def remove_punctuation(text):\n",
    "    return re.sub(spetial_chars_regex,\" \",text)\n",
    "\n",
    "stemmer = nltk.stem.SnowballStemmer(language=\"english\")\n",
    "\n",
    "def stem(text):\n",
    "    \n",
    "    text = nltk.word_tokenize(text, language='english')\n",
    "        \n",
    "    text = [stemmer.stem(word) for word in text]\n",
    "    \n",
    "    return ' '.join(text)"
   ]
  },
  {
   "cell_type": "code",
   "execution_count": 591,
   "metadata": {},
   "outputs": [],
   "source": [
    "def clean_text(text):\n",
    "    text = remove_punctuation(text)\n",
    "    text = handleRepetitive(text)\n",
    "    text = replaceHomoglyphs(text)\n",
    "    text = remove_urls(text)\n",
    "    text = remove_html(text)\n",
    "    text = remove_emails(text)\n",
    "    text = remove_numbers(text)\n",
    "    text = convertLowercase(text)\n",
    "    text = removeStopWords(text)\n",
    "    return text"
   ]
  },
  {
   "cell_type": "code",
   "execution_count": 592,
   "metadata": {},
   "outputs": [
    {
     "data": {
      "application/vnd.jupyter.widget-view+json": {
       "model_id": "f830bd941f8c403e9080eeddfb5ef99a",
       "version_major": 2,
       "version_minor": 0
      },
      "text/plain": [
       "  0%|          | 0/47176 [00:00<?, ?it/s]"
      ]
     },
     "metadata": {},
     "output_type": "display_data"
    }
   ],
   "source": [
    "train_df[\"cleaned_reviews\"] = train_df[\"reviews\"].progress_apply(clean_text)"
   ]
  },
  {
   "cell_type": "code",
   "execution_count": 593,
   "metadata": {},
   "outputs": [],
   "source": [
    "train_df.to_csv(os.path.join(\"data/clean_train.csv\"),index=False)"
   ]
  },
  {
   "cell_type": "markdown",
   "metadata": {},
   "source": [
    "# Models"
   ]
  },
  {
   "cell_type": "code",
   "execution_count": 661,
   "metadata": {},
   "outputs": [],
   "source": [
    "train_df = pd.read_csv(\"./data/clean_train.csv\")"
   ]
  },
  {
   "cell_type": "code",
   "execution_count": 662,
   "metadata": {},
   "outputs": [
    {
     "data": {
      "text/html": [
       "<div>\n",
       "<style scoped>\n",
       "    .dataframe tbody tr th:only-of-type {\n",
       "        vertical-align: middle;\n",
       "    }\n",
       "\n",
       "    .dataframe tbody tr th {\n",
       "        vertical-align: top;\n",
       "    }\n",
       "\n",
       "    .dataframe thead th {\n",
       "        text-align: right;\n",
       "    }\n",
       "</style>\n",
       "<table border=\"1\" class=\"dataframe\">\n",
       "  <thead>\n",
       "    <tr style=\"text-align: right;\">\n",
       "      <th></th>\n",
       "      <th>id</th>\n",
       "      <th>Date</th>\n",
       "      <th>review ID</th>\n",
       "      <th>reviewer ID</th>\n",
       "      <th>product ID</th>\n",
       "      <th>rating_Helpful</th>\n",
       "      <th>rating_Thanks</th>\n",
       "      <th>rating_LoveThis</th>\n",
       "      <th>rating_OhNo</th>\n",
       "      <th>reviews</th>\n",
       "      <th>Label</th>\n",
       "      <th>langth</th>\n",
       "      <th>cleaned_reviews</th>\n",
       "    </tr>\n",
       "  </thead>\n",
       "  <tbody>\n",
       "    <tr>\n",
       "      <th>0</th>\n",
       "      <td>0</td>\n",
       "      <td>2009-05-17</td>\n",
       "      <td>0dFa6egshOwhusL8aSMw-Q</td>\n",
       "      <td>8GC6cFcby0stKarnzL9i2w</td>\n",
       "      <td>dKcO9OQ44RPRlkWe-vToFA</td>\n",
       "      <td>0</td>\n",
       "      <td>0</td>\n",
       "      <td>0</td>\n",
       "      <td>4</td>\n",
       "      <td>Just got back from Shaw's. Great oysters. They...</td>\n",
       "      <td>1</td>\n",
       "      <td>170</td>\n",
       "      <td>got back shaw great oysters like [number] vari...</td>\n",
       "    </tr>\n",
       "    <tr>\n",
       "      <th>1</th>\n",
       "      <td>1</td>\n",
       "      <td>2011-10-25</td>\n",
       "      <td>htQgJ_Z0ADA_QHeKthfeFw</td>\n",
       "      <td>88KSdQ5IMdpCkOidmq1udg</td>\n",
       "      <td>NkOir65b_YAAQVlJR_zmJA</td>\n",
       "      <td>0</td>\n",
       "      <td>0</td>\n",
       "      <td>0</td>\n",
       "      <td>2</td>\n",
       "      <td>Back from friday &amp; saturday nite stays in King...</td>\n",
       "      <td>1</td>\n",
       "      <td>672</td>\n",
       "      <td>back friday saturday nite stays king deluxe ro...</td>\n",
       "    </tr>\n",
       "    <tr>\n",
       "      <th>2</th>\n",
       "      <td>2</td>\n",
       "      <td>2009-08-23</td>\n",
       "      <td>2RsvT8p0SuAC25bhAi3EIw</td>\n",
       "      <td>bMKlvA-zWF4jU3OJCVbVlA</td>\n",
       "      <td>cQnY_VneZisfUAqcbuEuKg</td>\n",
       "      <td>0</td>\n",
       "      <td>0</td>\n",
       "      <td>0</td>\n",
       "      <td>5</td>\n",
       "      <td>It is a beautiful Saturday afternoon and my wi...</td>\n",
       "      <td>0</td>\n",
       "      <td>2655</td>\n",
       "      <td>beautiful saturday afternoon wife home two you...</td>\n",
       "    </tr>\n",
       "  </tbody>\n",
       "</table>\n",
       "</div>"
      ],
      "text/plain": [
       "   id        Date               review ID             reviewer ID  \\\n",
       "0   0  2009-05-17  0dFa6egshOwhusL8aSMw-Q  8GC6cFcby0stKarnzL9i2w   \n",
       "1   1  2011-10-25  htQgJ_Z0ADA_QHeKthfeFw  88KSdQ5IMdpCkOidmq1udg   \n",
       "2   2  2009-08-23  2RsvT8p0SuAC25bhAi3EIw  bMKlvA-zWF4jU3OJCVbVlA   \n",
       "\n",
       "               product ID  rating_Helpful  rating_Thanks  rating_LoveThis  \\\n",
       "0  dKcO9OQ44RPRlkWe-vToFA               0              0                0   \n",
       "1  NkOir65b_YAAQVlJR_zmJA               0              0                0   \n",
       "2  cQnY_VneZisfUAqcbuEuKg               0              0                0   \n",
       "\n",
       "   rating_OhNo                                            reviews  Label  \\\n",
       "0            4  Just got back from Shaw's. Great oysters. They...      1   \n",
       "1            2  Back from friday & saturday nite stays in King...      1   \n",
       "2            5  It is a beautiful Saturday afternoon and my wi...      0   \n",
       "\n",
       "   langth                                    cleaned_reviews  \n",
       "0     170  got back shaw great oysters like [number] vari...  \n",
       "1     672  back friday saturday nite stays king deluxe ro...  \n",
       "2    2655  beautiful saturday afternoon wife home two you...  "
      ]
     },
     "execution_count": 662,
     "metadata": {},
     "output_type": "execute_result"
    }
   ],
   "source": [
    "train_df['Label']=train_df['Label'].apply(lambda x: 1 if x=='Y' else 0)\n",
    "train_df.head(3)"
   ]
  },
  {
   "cell_type": "markdown",
   "metadata": {},
   "source": [
    "# Feature extraction"
   ]
  },
  {
   "cell_type": "code",
   "execution_count": 663,
   "metadata": {},
   "outputs": [],
   "source": [
    "def FeatureExtraction(df):\n",
    "    reviewer_frequency = df.groupby('reviewer ID')['review ID'].count().reset_index()\n",
    "    reviewer_frequency.columns = ['reviewer ID', 'review_frequency']\n",
    "\n",
    "    ratios = df.groupby('reviewer ID').agg({\n",
    "        'rating_Helpful': lambda x: sum(x) / len(x),\n",
    "        'rating_Thanks': lambda x: sum(x) / len(x),\n",
    "        'rating_LoveThis': lambda x: sum(x) / len(x),\n",
    "        'review ID': 'count'\n",
    "    }).reset_index()\n",
    "    ratios.columns = ['reviewer ID', 'helpful_ratio', 'thanks_ratio', 'love_ratio', 'total_reviews']\n",
    "\n",
    "    reviewer_behavior = pd.merge(reviewer_frequency, ratios, on='reviewer ID')\n",
    "\n",
    "    # Calculate number of reviews per product\n",
    "    product_reviews_count = df.groupby('product ID')['review ID'].count().reset_index()\n",
    "    product_reviews_count.columns = ['product ID', 'reviews_count']\n",
    "    \n",
    "    rating_weights = {'rating_Helpful': 1, 'rating_Thanks': 1, 'rating_LoveThis': 1, 'rating_OhNo': -1}\n",
    "    \n",
    "    # Calculate overall rating for each product\n",
    "    df['overall_rating'] = df.apply(lambda row: sum(row[rating] * rating_weights[rating] for rating in rating_weights.keys()), axis=1)\n",
    "    \n",
    "    # Calculate average rating per product\n",
    "    product_avg_rating = df.groupby('product ID')['overall_rating'].mean().reset_index()\n",
    "    product_avg_rating.columns = ['product ID', 'avg_rating']\n",
    "    \n",
    "    # Merge the two dataframes\n",
    "    product_popularity = pd.merge(product_reviews_count, product_avg_rating, on='product ID')\n",
    "\n",
    "    df = pd.merge(df, reviewer_behavior, on='reviewer ID')\n",
    "\n",
    "    df = pd.merge(df, product_popularity, on='product ID')\n",
    "\n",
    "    pol = lambda x: TextBlob(x).sentiment.polarity\n",
    "    sub = lambda x: TextBlob(x).sentiment.subjectivity\n",
    "\n",
    "    df['polarity'] = df['reviews'].progress_apply(pol)\n",
    "    df['subjectivity'] = df['reviews'].progress_apply(sub)\n",
    "\n",
    "    return df"
   ]
  },
  {
   "cell_type": "code",
   "execution_count": 664,
   "metadata": {},
   "outputs": [
    {
     "data": {
      "application/vnd.jupyter.widget-view+json": {
       "model_id": "e62b2c155ce14a5ab87ed5d40950c442",
       "version_major": 2,
       "version_minor": 0
      },
      "text/plain": [
       "  0%|          | 0/47176 [00:00<?, ?it/s]"
      ]
     },
     "metadata": {},
     "output_type": "display_data"
    },
    {
     "data": {
      "application/vnd.jupyter.widget-view+json": {
       "model_id": "47ea1db63b794f94b850efcd2ca17045",
       "version_major": 2,
       "version_minor": 0
      },
      "text/plain": [
       "  0%|          | 0/47176 [00:00<?, ?it/s]"
      ]
     },
     "metadata": {},
     "output_type": "display_data"
    }
   ],
   "source": [
    "train_df = FeatureExtraction(train_df)"
   ]
  },
  {
   "cell_type": "code",
   "execution_count": 665,
   "metadata": {},
   "outputs": [
    {
     "data": {
      "text/html": [
       "<div>\n",
       "<style scoped>\n",
       "    .dataframe tbody tr th:only-of-type {\n",
       "        vertical-align: middle;\n",
       "    }\n",
       "\n",
       "    .dataframe tbody tr th {\n",
       "        vertical-align: top;\n",
       "    }\n",
       "\n",
       "    .dataframe thead th {\n",
       "        text-align: right;\n",
       "    }\n",
       "</style>\n",
       "<table border=\"1\" class=\"dataframe\">\n",
       "  <thead>\n",
       "    <tr style=\"text-align: right;\">\n",
       "      <th></th>\n",
       "      <th>id</th>\n",
       "      <th>Date</th>\n",
       "      <th>review ID</th>\n",
       "      <th>reviewer ID</th>\n",
       "      <th>product ID</th>\n",
       "      <th>rating_Helpful</th>\n",
       "      <th>rating_Thanks</th>\n",
       "      <th>rating_LoveThis</th>\n",
       "      <th>rating_OhNo</th>\n",
       "      <th>reviews</th>\n",
       "      <th>...</th>\n",
       "      <th>overall_rating</th>\n",
       "      <th>review_frequency</th>\n",
       "      <th>helpful_ratio</th>\n",
       "      <th>thanks_ratio</th>\n",
       "      <th>love_ratio</th>\n",
       "      <th>total_reviews</th>\n",
       "      <th>reviews_count</th>\n",
       "      <th>avg_rating</th>\n",
       "      <th>polarity</th>\n",
       "      <th>subjectivity</th>\n",
       "    </tr>\n",
       "  </thead>\n",
       "  <tbody>\n",
       "    <tr>\n",
       "      <th>0</th>\n",
       "      <td>0</td>\n",
       "      <td>2009-05-17</td>\n",
       "      <td>0dFa6egshOwhusL8aSMw-Q</td>\n",
       "      <td>8GC6cFcby0stKarnzL9i2w</td>\n",
       "      <td>dKcO9OQ44RPRlkWe-vToFA</td>\n",
       "      <td>0</td>\n",
       "      <td>0</td>\n",
       "      <td>0</td>\n",
       "      <td>4</td>\n",
       "      <td>Just got back from Shaw's. Great oysters. They...</td>\n",
       "      <td>...</td>\n",
       "      <td>-4</td>\n",
       "      <td>1</td>\n",
       "      <td>0.000000</td>\n",
       "      <td>0.0</td>\n",
       "      <td>0.000000</td>\n",
       "      <td>1</td>\n",
       "      <td>431</td>\n",
       "      <td>-2.932715</td>\n",
       "      <td>0.420000</td>\n",
       "      <td>0.440000</td>\n",
       "    </tr>\n",
       "    <tr>\n",
       "      <th>1</th>\n",
       "      <td>1</td>\n",
       "      <td>2011-10-25</td>\n",
       "      <td>htQgJ_Z0ADA_QHeKthfeFw</td>\n",
       "      <td>88KSdQ5IMdpCkOidmq1udg</td>\n",
       "      <td>NkOir65b_YAAQVlJR_zmJA</td>\n",
       "      <td>0</td>\n",
       "      <td>0</td>\n",
       "      <td>0</td>\n",
       "      <td>2</td>\n",
       "      <td>Back from friday &amp; saturday nite stays in King...</td>\n",
       "      <td>...</td>\n",
       "      <td>-2</td>\n",
       "      <td>1</td>\n",
       "      <td>0.000000</td>\n",
       "      <td>0.0</td>\n",
       "      <td>0.000000</td>\n",
       "      <td>1</td>\n",
       "      <td>212</td>\n",
       "      <td>-2.108491</td>\n",
       "      <td>0.058850</td>\n",
       "      <td>0.664360</td>\n",
       "    </tr>\n",
       "    <tr>\n",
       "      <th>2</th>\n",
       "      <td>2</td>\n",
       "      <td>2009-08-23</td>\n",
       "      <td>2RsvT8p0SuAC25bhAi3EIw</td>\n",
       "      <td>bMKlvA-zWF4jU3OJCVbVlA</td>\n",
       "      <td>cQnY_VneZisfUAqcbuEuKg</td>\n",
       "      <td>0</td>\n",
       "      <td>0</td>\n",
       "      <td>0</td>\n",
       "      <td>5</td>\n",
       "      <td>It is a beautiful Saturday afternoon and my wi...</td>\n",
       "      <td>...</td>\n",
       "      <td>-5</td>\n",
       "      <td>9</td>\n",
       "      <td>0.777778</td>\n",
       "      <td>1.0</td>\n",
       "      <td>0.777778</td>\n",
       "      <td>9</td>\n",
       "      <td>443</td>\n",
       "      <td>-2.092551</td>\n",
       "      <td>0.285298</td>\n",
       "      <td>0.532514</td>\n",
       "    </tr>\n",
       "  </tbody>\n",
       "</table>\n",
       "<p>3 rows × 23 columns</p>\n",
       "</div>"
      ],
      "text/plain": [
       "   id        Date               review ID             reviewer ID  \\\n",
       "0   0  2009-05-17  0dFa6egshOwhusL8aSMw-Q  8GC6cFcby0stKarnzL9i2w   \n",
       "1   1  2011-10-25  htQgJ_Z0ADA_QHeKthfeFw  88KSdQ5IMdpCkOidmq1udg   \n",
       "2   2  2009-08-23  2RsvT8p0SuAC25bhAi3EIw  bMKlvA-zWF4jU3OJCVbVlA   \n",
       "\n",
       "               product ID  rating_Helpful  rating_Thanks  rating_LoveThis  \\\n",
       "0  dKcO9OQ44RPRlkWe-vToFA               0              0                0   \n",
       "1  NkOir65b_YAAQVlJR_zmJA               0              0                0   \n",
       "2  cQnY_VneZisfUAqcbuEuKg               0              0                0   \n",
       "\n",
       "   rating_OhNo                                            reviews  ...  \\\n",
       "0            4  Just got back from Shaw's. Great oysters. They...  ...   \n",
       "1            2  Back from friday & saturday nite stays in King...  ...   \n",
       "2            5  It is a beautiful Saturday afternoon and my wi...  ...   \n",
       "\n",
       "   overall_rating  review_frequency helpful_ratio  thanks_ratio  love_ratio  \\\n",
       "0              -4                 1      0.000000           0.0    0.000000   \n",
       "1              -2                 1      0.000000           0.0    0.000000   \n",
       "2              -5                 9      0.777778           1.0    0.777778   \n",
       "\n",
       "   total_reviews  reviews_count  avg_rating  polarity  subjectivity  \n",
       "0              1            431   -2.932715  0.420000      0.440000  \n",
       "1              1            212   -2.108491  0.058850      0.664360  \n",
       "2              9            443   -2.092551  0.285298      0.532514  \n",
       "\n",
       "[3 rows x 23 columns]"
      ]
     },
     "execution_count": 665,
     "metadata": {},
     "output_type": "execute_result"
    }
   ],
   "source": [
    "train_df.head(3)"
   ]
  },
  {
   "cell_type": "code",
   "execution_count": 666,
   "metadata": {},
   "outputs": [
    {
     "data": {
      "text/plain": [
       "Index(['id', 'Date', 'review ID', 'reviewer ID', 'product ID',\n",
       "       'rating_Helpful', 'rating_Thanks', 'rating_LoveThis', 'rating_OhNo',\n",
       "       'reviews', 'Label', 'langth', 'cleaned_reviews', 'overall_rating',\n",
       "       'review_frequency', 'helpful_ratio', 'thanks_ratio', 'love_ratio',\n",
       "       'total_reviews', 'reviews_count', 'avg_rating', 'polarity',\n",
       "       'subjectivity'],\n",
       "      dtype='object')"
      ]
     },
     "execution_count": 666,
     "metadata": {},
     "output_type": "execute_result"
    }
   ],
   "source": [
    "train_df.columns"
   ]
  },
  {
   "cell_type": "code",
   "execution_count": 667,
   "metadata": {},
   "outputs": [],
   "source": [
    "train_df.to_csv(os.path.join(\"data\",\"cleaned_data.csv\"),index=False)"
   ]
  },
  {
   "cell_type": "code",
   "execution_count": 668,
   "metadata": {},
   "outputs": [],
   "source": [
    "train_df = pd.read_csv(os.path.join(\"data\",\"cleaned_data.csv\"))"
   ]
  },
  {
   "cell_type": "code",
   "execution_count": 673,
   "metadata": {},
   "outputs": [],
   "source": [
    "X = train_df[['cleaned_reviews', 'langth', 'review_frequency', 'reviews_count', 'avg_rating', 'overall_rating', 'polarity', 'subjectivity']]\n",
    "y = train_df['Label']"
   ]
  },
  {
   "cell_type": "code",
   "execution_count": 674,
   "metadata": {},
   "outputs": [
    {
     "data": {
      "text/plain": [
       "<Axes: >"
      ]
     },
     "execution_count": 674,
     "metadata": {},
     "output_type": "execute_result"
    },
    {
     "data": {
      "image/png": "[encoded data removed]",
      "text/plain": [
       "<Figure size 640x480 with 2 Axes>"
      ]
     },
     "metadata": {},
     "output_type": "display_data"
    }
   ],
   "source": [
    "encoder = LabelEncoder()\n",
    "\n",
    "enc_data = X.copy()\n",
    "\n",
    "enc_data.drop('cleaned_reviews', axis=1, inplace=True)\n",
    "# plot the heatmap\n",
    "sns.heatmap(enc_data.corr(), annot=True, cmap='coolwarm', fmt='.2f', linewidths=2)"
   ]
  },
  {
   "cell_type": "code",
   "execution_count": 679,
   "metadata": {},
   "outputs": [
    {
     "name": "stdout",
     "output_type": "stream",
     "text": [
      "(37740, 8)\n",
      "(37740,)\n",
      "(9436, 8)\n",
      "(9436,)\n"
     ]
    }
   ],
   "source": [
    "X_train,X_val,y_train,y_val = train_test_split(X, y, test_size=0.2, random_state=42)\n",
    "\n",
    "print(X_train.shape)\n",
    "print(y_train.shape)\n",
    "\n",
    "print(X_val.shape)\n",
    "print(y_val.shape)"
   ]
  },
  {
   "cell_type": "code",
   "execution_count": 680,
   "metadata": {},
   "outputs": [],
   "source": [
    "model_lr = Pipeline(steps=[\n",
    "    (\"ColumnTransfomer\",ColumnTransformer([\n",
    "        (\"Vectorizer\",TfidfVectorizer(), 0),\n",
    "        (\"Identity\",FunctionTransformer(), [1,2,3,4]),\n",
    "    ])),\n",
    "    (\"Scaler\",MaxAbsScaler()),\n",
    "    (\"Estimator\",LogisticRegression())\n",
    "])"
   ]
  },
  {
   "cell_type": "code",
   "execution_count": 681,
   "metadata": {},
   "outputs": [
    {
     "name": "stderr",
     "output_type": "stream",
     "text": [
      "c:\\Users\\ACER\\AppData\\Local\\Programs\\Python\\Python312\\Lib\\site-packages\\sklearn\\linear_model\\_logistic.py:460: ConvergenceWarning: lbfgs failed to converge (status=1):\n",
      "STOP: TOTAL NO. of ITERATIONS REACHED LIMIT.\n",
      "\n",
      "Increase the number of iterations (max_iter) or scale the data as shown in:\n",
      "    https://scikit-learn.org/stable/modules/preprocessing.html\n",
      "Please also refer to the documentation for alternative solver options:\n",
      "    https://scikit-learn.org/stable/modules/linear_model.html#logistic-regression\n",
      "  n_iter_i = _check_optimize_result(\n"
     ]
    },
    {
     "data": {
      "text/html": [
       "<style>#sk-container-id-40 {color: black;}#sk-container-id-40 pre{padding: 0;}#sk-container-id-40 div.sk-toggleable {background-color: white;}#sk-container-id-40 label.sk-toggleable__label {cursor: pointer;display: block;width: 100%;margin-bottom: 0;padding: 0.3em;box-sizing: border-box;text-align: center;}#sk-container-id-40 label.sk-toggleable__label-arrow:before {content: \"▸\";float: left;margin-right: 0.25em;color: #696969;}#sk-container-id-40 label.sk-toggleable__label-arrow:hover:before {color: black;}#sk-container-id-40 div.sk-estimator:hover label.sk-toggleable__label-arrow:before {color: black;}#sk-container-id-40 div.sk-toggleable__content {max-height: 0;max-width: 0;overflow: hidden;text-align: left;background-color: #f0f8ff;}#sk-container-id-40 div.sk-toggleable__content pre {margin: 0.2em;color: black;border-radius: 0.25em;background-color: #f0f8ff;}#sk-container-id-40 input.sk-toggleable__control:checked~div.sk-toggleable__content {max-height: 200px;max-width: 100%;overflow: auto;}#sk-container-id-40 input.sk-toggleable__control:checked~label.sk-toggleable__label-arrow:before {content: \"▾\";}#sk-container-id-40 div.sk-estimator input.sk-toggleable__control:checked~label.sk-toggleable__label {background-color: #d4ebff;}#sk-container-id-40 div.sk-label input.sk-toggleable__control:checked~label.sk-toggleable__label {background-color: #d4ebff;}#sk-container-id-40 input.sk-hidden--visually {border: 0;clip: rect(1px 1px 1px 1px);clip: rect(1px, 1px, 1px, 1px);height: 1px;margin: -1px;overflow: hidden;padding: 0;position: absolute;width: 1px;}#sk-container-id-40 div.sk-estimator {font-family: monospace;background-color: #f0f8ff;border: 1px dotted black;border-radius: 0.25em;box-sizing: border-box;margin-bottom: 0.5em;}#sk-container-id-40 div.sk-estimator:hover {background-color: #d4ebff;}#sk-container-id-40 div.sk-parallel-item::after {content: \"\";width: 100%;border-bottom: 1px solid gray;flex-grow: 1;}#sk-container-id-40 div.sk-label:hover label.sk-toggleable__label {background-color: #d4ebff;}#sk-container-id-40 div.sk-serial::before {content: \"\";position: absolute;border-left: 1px solid gray;box-sizing: border-box;top: 0;bottom: 0;left: 50%;z-index: 0;}#sk-container-id-40 div.sk-serial {display: flex;flex-direction: column;align-items: center;background-color: white;padding-right: 0.2em;padding-left: 0.2em;position: relative;}#sk-container-id-40 div.sk-item {position: relative;z-index: 1;}#sk-container-id-40 div.sk-parallel {display: flex;align-items: stretch;justify-content: center;background-color: white;position: relative;}#sk-container-id-40 div.sk-item::before, #sk-container-id-40 div.sk-parallel-item::before {content: \"\";position: absolute;border-left: 1px solid gray;box-sizing: border-box;top: 0;bottom: 0;left: 50%;z-index: -1;}#sk-container-id-40 div.sk-parallel-item {display: flex;flex-direction: column;z-index: 1;position: relative;background-color: white;}#sk-container-id-40 div.sk-parallel-item:first-child::after {align-self: flex-end;width: 50%;}#sk-container-id-40 div.sk-parallel-item:last-child::after {align-self: flex-start;width: 50%;}#sk-container-id-40 div.sk-parallel-item:only-child::after {width: 0;}#sk-container-id-40 div.sk-dashed-wrapped {border: 1px dashed gray;margin: 0 0.4em 0.5em 0.4em;box-sizing: border-box;padding-bottom: 0.4em;background-color: white;}#sk-container-id-40 div.sk-label label {font-family: monospace;font-weight: bold;display: inline-block;line-height: 1.2em;}#sk-container-id-40 div.sk-label-container {text-align: center;}#sk-container-id-40 div.sk-container {/* jupyter's `normalize.less` sets `[hidden] { display: none; }` but bootstrap.min.css set `[hidden] { display: none !important; }` so we also need the `!important` here to be able to override the default hidden behavior on the sphinx rendered scikit-learn.org. See: https://github.com/scikit-learn/scikit-learn/issues/21755 */display: inline-block !important;position: relative;}#sk-container-id-40 div.sk-text-repr-fallback {display: none;}</style><div id=\"sk-container-id-40\" class=\"sk-top-container\"><div class=\"sk-text-repr-fallback\"><pre>Pipeline(steps=[(&#x27;ColumnTransfomer&#x27;,\n",
       "                 ColumnTransformer(transformers=[(&#x27;Vectorizer&#x27;,\n",
       "                                                  TfidfVectorizer(), 0),\n",
       "                                                 (&#x27;Identity&#x27;,\n",
       "                                                  FunctionTransformer(),\n",
       "                                                  [1, 2, 3, 4])])),\n",
       "                (&#x27;Scaler&#x27;, MaxAbsScaler()),\n",
       "                (&#x27;Estimator&#x27;, LogisticRegression())])</pre><b>In a Jupyter environment, please rerun this cell to show the HTML representation or trust the notebook. <br />On GitHub, the HTML representation is unable to render, please try loading this page with nbviewer.org.</b></div><div class=\"sk-container\" hidden><div class=\"sk-item sk-dashed-wrapped\"><div class=\"sk-label-container\"><div class=\"sk-label sk-toggleable\"><input class=\"sk-toggleable__control sk-hidden--visually\" id=\"sk-estimator-id-321\" type=\"checkbox\" ><label for=\"sk-estimator-id-321\" class=\"sk-toggleable__label sk-toggleable__label-arrow\">Pipeline</label><div class=\"sk-toggleable__content\"><pre>Pipeline(steps=[(&#x27;ColumnTransfomer&#x27;,\n",
       "                 ColumnTransformer(transformers=[(&#x27;Vectorizer&#x27;,\n",
       "                                                  TfidfVectorizer(), 0),\n",
       "                                                 (&#x27;Identity&#x27;,\n",
       "                                                  FunctionTransformer(),\n",
       "                                                  [1, 2, 3, 4])])),\n",
       "                (&#x27;Scaler&#x27;, MaxAbsScaler()),\n",
       "                (&#x27;Estimator&#x27;, LogisticRegression())])</pre></div></div></div><div class=\"sk-serial\"><div class=\"sk-item sk-dashed-wrapped\"><div class=\"sk-label-container\"><div class=\"sk-label sk-toggleable\"><input class=\"sk-toggleable__control sk-hidden--visually\" id=\"sk-estimator-id-322\" type=\"checkbox\" ><label for=\"sk-estimator-id-322\" class=\"sk-toggleable__label sk-toggleable__label-arrow\">ColumnTransfomer: ColumnTransformer</label><div class=\"sk-toggleable__content\"><pre>ColumnTransformer(transformers=[(&#x27;Vectorizer&#x27;, TfidfVectorizer(), 0),\n",
       "                                (&#x27;Identity&#x27;, FunctionTransformer(),\n",
       "                                 [1, 2, 3, 4])])</pre></div></div></div><div class=\"sk-parallel\"><div class=\"sk-parallel-item\"><div class=\"sk-item\"><div class=\"sk-label-container\"><div class=\"sk-label sk-toggleable\"><input class=\"sk-toggleable__control sk-hidden--visually\" id=\"sk-estimator-id-323\" type=\"checkbox\" ><label for=\"sk-estimator-id-323\" class=\"sk-toggleable__label sk-toggleable__label-arrow\">Vectorizer</label><div class=\"sk-toggleable__content\"><pre>0</pre></div></div></div><div class=\"sk-serial\"><div class=\"sk-item\"><div class=\"sk-estimator sk-toggleable\"><input class=\"sk-toggleable__control sk-hidden--visually\" id=\"sk-estimator-id-324\" type=\"checkbox\" ><label for=\"sk-estimator-id-324\" class=\"sk-toggleable__label sk-toggleable__label-arrow\">TfidfVectorizer</label><div class=\"sk-toggleable__content\"><pre>TfidfVectorizer()</pre></div></div></div></div></div></div><div class=\"sk-parallel-item\"><div class=\"sk-item\"><div class=\"sk-label-container\"><div class=\"sk-label sk-toggleable\"><input class=\"sk-toggleable__control sk-hidden--visually\" id=\"sk-estimator-id-325\" type=\"checkbox\" ><label for=\"sk-estimator-id-325\" class=\"sk-toggleable__label sk-toggleable__label-arrow\">Identity</label><div class=\"sk-toggleable__content\"><pre>[1, 2, 3, 4]</pre></div></div></div><div class=\"sk-serial\"><div class=\"sk-item\"><div class=\"sk-estimator sk-toggleable\"><input class=\"sk-toggleable__control sk-hidden--visually\" id=\"sk-estimator-id-326\" type=\"checkbox\" ><label for=\"sk-estimator-id-326\" class=\"sk-toggleable__label sk-toggleable__label-arrow\">FunctionTransformer</label><div class=\"sk-toggleable__content\"><pre>FunctionTransformer()</pre></div></div></div></div></div></div></div></div><div class=\"sk-item\"><div class=\"sk-estimator sk-toggleable\"><input class=\"sk-toggleable__control sk-hidden--visually\" id=\"sk-estimator-id-327\" type=\"checkbox\" ><label for=\"sk-estimator-id-327\" class=\"sk-toggleable__label sk-toggleable__label-arrow\">MaxAbsScaler</label><div class=\"sk-toggleable__content\"><pre>MaxAbsScaler()</pre></div></div></div><div class=\"sk-item\"><div class=\"sk-estimator sk-toggleable\"><input class=\"sk-toggleable__control sk-hidden--visually\" id=\"sk-estimator-id-328\" type=\"checkbox\" ><label for=\"sk-estimator-id-328\" class=\"sk-toggleable__label sk-toggleable__label-arrow\">LogisticRegression</label><div class=\"sk-toggleable__content\"><pre>LogisticRegression()</pre></div></div></div></div></div></div></div>"
      ],
      "text/plain": [
       "Pipeline(steps=[('ColumnTransfomer',\n",
       "                 ColumnTransformer(transformers=[('Vectorizer',\n",
       "                                                  TfidfVectorizer(), 0),\n",
       "                                                 ('Identity',\n",
       "                                                  FunctionTransformer(),\n",
       "                                                  [1, 2, 3, 4])])),\n",
       "                ('Scaler', MaxAbsScaler()),\n",
       "                ('Estimator', LogisticRegression())])"
      ]
     },
     "execution_count": 681,
     "metadata": {},
     "output_type": "execute_result"
    }
   ],
   "source": [
    "model_lr.fit(X_train,y_train)"
   ]
  },
  {
   "cell_type": "code",
   "execution_count": 682,
   "metadata": {},
   "outputs": [
    {
     "name": "stdout",
     "output_type": "stream",
     "text": [
      "Train Accuracy: 0.8572488342518017\n",
      "Train F1 Score: 0.16074766355140188\n"
     ]
    }
   ],
   "source": [
    "pred = model_lr.predict(X_val)\n",
    "print(f\"Train Accuracy: {accuracy_score(y_val,pred)}\")\n",
    "print(f\"Train F1 Score: {f1_score(y_val,pred)}\")"
   ]
  },
  {
   "cell_type": "code",
   "execution_count": 375,
   "metadata": {},
   "outputs": [],
   "source": [
    "model_rf = Pipeline(steps=[\n",
    "    (\"ColumnTransfomer\",ColumnTransformer([\n",
    "        (\"Vectorizer\",TfidfVectorizer(), 0),\n",
    "        (\"Identity\",FunctionTransformer(), [1,2,3,4]),\n",
    "    ])),\n",
    "    (\"Scaler\",MaxAbsScaler()),\n",
    "    (\"Estimator\",RandomForestClassifier())\n",
    "])"
   ]
  },
  {
   "cell_type": "code",
   "execution_count": 376,
   "metadata": {},
   "outputs": [
    {
     "data": {
      "text/html": [
       "<style>#sk-container-id-28 {color: black;}#sk-container-id-28 pre{padding: 0;}#sk-container-id-28 div.sk-toggleable {background-color: white;}#sk-container-id-28 label.sk-toggleable__label {cursor: pointer;display: block;width: 100%;margin-bottom: 0;padding: 0.3em;box-sizing: border-box;text-align: center;}#sk-container-id-28 label.sk-toggleable__label-arrow:before {content: \"▸\";float: left;margin-right: 0.25em;color: #696969;}#sk-container-id-28 label.sk-toggleable__label-arrow:hover:before {color: black;}#sk-container-id-28 div.sk-estimator:hover label.sk-toggleable__label-arrow:before {color: black;}#sk-container-id-28 div.sk-toggleable__content {max-height: 0;max-width: 0;overflow: hidden;text-align: left;background-color: #f0f8ff;}#sk-container-id-28 div.sk-toggleable__content pre {margin: 0.2em;color: black;border-radius: 0.25em;background-color: #f0f8ff;}#sk-container-id-28 input.sk-toggleable__control:checked~div.sk-toggleable__content {max-height: 200px;max-width: 100%;overflow: auto;}#sk-container-id-28 input.sk-toggleable__control:checked~label.sk-toggleable__label-arrow:before {content: \"▾\";}#sk-container-id-28 div.sk-estimator input.sk-toggleable__control:checked~label.sk-toggleable__label {background-color: #d4ebff;}#sk-container-id-28 div.sk-label input.sk-toggleable__control:checked~label.sk-toggleable__label {background-color: #d4ebff;}#sk-container-id-28 input.sk-hidden--visually {border: 0;clip: rect(1px 1px 1px 1px);clip: rect(1px, 1px, 1px, 1px);height: 1px;margin: -1px;overflow: hidden;padding: 0;position: absolute;width: 1px;}#sk-container-id-28 div.sk-estimator {font-family: monospace;background-color: #f0f8ff;border: 1px dotted black;border-radius: 0.25em;box-sizing: border-box;margin-bottom: 0.5em;}#sk-container-id-28 div.sk-estimator:hover {background-color: #d4ebff;}#sk-container-id-28 div.sk-parallel-item::after {content: \"\";width: 100%;border-bottom: 1px solid gray;flex-grow: 1;}#sk-container-id-28 div.sk-label:hover label.sk-toggleable__label {background-color: #d4ebff;}#sk-container-id-28 div.sk-serial::before {content: \"\";position: absolute;border-left: 1px solid gray;box-sizing: border-box;top: 0;bottom: 0;left: 50%;z-index: 0;}#sk-container-id-28 div.sk-serial {display: flex;flex-direction: column;align-items: center;background-color: white;padding-right: 0.2em;padding-left: 0.2em;position: relative;}#sk-container-id-28 div.sk-item {position: relative;z-index: 1;}#sk-container-id-28 div.sk-parallel {display: flex;align-items: stretch;justify-content: center;background-color: white;position: relative;}#sk-container-id-28 div.sk-item::before, #sk-container-id-28 div.sk-parallel-item::before {content: \"\";position: absolute;border-left: 1px solid gray;box-sizing: border-box;top: 0;bottom: 0;left: 50%;z-index: -1;}#sk-container-id-28 div.sk-parallel-item {display: flex;flex-direction: column;z-index: 1;position: relative;background-color: white;}#sk-container-id-28 div.sk-parallel-item:first-child::after {align-self: flex-end;width: 50%;}#sk-container-id-28 div.sk-parallel-item:last-child::after {align-self: flex-start;width: 50%;}#sk-container-id-28 div.sk-parallel-item:only-child::after {width: 0;}#sk-container-id-28 div.sk-dashed-wrapped {border: 1px dashed gray;margin: 0 0.4em 0.5em 0.4em;box-sizing: border-box;padding-bottom: 0.4em;background-color: white;}#sk-container-id-28 div.sk-label label {font-family: monospace;font-weight: bold;display: inline-block;line-height: 1.2em;}#sk-container-id-28 div.sk-label-container {text-align: center;}#sk-container-id-28 div.sk-container {/* jupyter's `normalize.less` sets `[hidden] { display: none; }` but bootstrap.min.css set `[hidden] { display: none !important; }` so we also need the `!important` here to be able to override the default hidden behavior on the sphinx rendered scikit-learn.org. See: https://github.com/scikit-learn/scikit-learn/issues/21755 */display: inline-block !important;position: relative;}#sk-container-id-28 div.sk-text-repr-fallback {display: none;}</style><div id=\"sk-container-id-28\" class=\"sk-top-container\"><div class=\"sk-text-repr-fallback\"><pre>Pipeline(steps=[(&#x27;ColumnTransfomer&#x27;,\n",
       "                 ColumnTransformer(transformers=[(&#x27;Vectorizer&#x27;,\n",
       "                                                  TfidfVectorizer(), 0),\n",
       "                                                 (&#x27;Identity&#x27;,\n",
       "                                                  FunctionTransformer(),\n",
       "                                                  [1, 2, 3, 4])])),\n",
       "                (&#x27;Scaler&#x27;, MaxAbsScaler()),\n",
       "                (&#x27;Estimator&#x27;, RandomForestClassifier())])</pre><b>In a Jupyter environment, please rerun this cell to show the HTML representation or trust the notebook. <br />On GitHub, the HTML representation is unable to render, please try loading this page with nbviewer.org.</b></div><div class=\"sk-container\" hidden><div class=\"sk-item sk-dashed-wrapped\"><div class=\"sk-label-container\"><div class=\"sk-label sk-toggleable\"><input class=\"sk-toggleable__control sk-hidden--visually\" id=\"sk-estimator-id-221\" type=\"checkbox\" ><label for=\"sk-estimator-id-221\" class=\"sk-toggleable__label sk-toggleable__label-arrow\">Pipeline</label><div class=\"sk-toggleable__content\"><pre>Pipeline(steps=[(&#x27;ColumnTransfomer&#x27;,\n",
       "                 ColumnTransformer(transformers=[(&#x27;Vectorizer&#x27;,\n",
       "                                                  TfidfVectorizer(), 0),\n",
       "                                                 (&#x27;Identity&#x27;,\n",
       "                                                  FunctionTransformer(),\n",
       "                                                  [1, 2, 3, 4])])),\n",
       "                (&#x27;Scaler&#x27;, MaxAbsScaler()),\n",
       "                (&#x27;Estimator&#x27;, RandomForestClassifier())])</pre></div></div></div><div class=\"sk-serial\"><div class=\"sk-item sk-dashed-wrapped\"><div class=\"sk-label-container\"><div class=\"sk-label sk-toggleable\"><input class=\"sk-toggleable__control sk-hidden--visually\" id=\"sk-estimator-id-222\" type=\"checkbox\" ><label for=\"sk-estimator-id-222\" class=\"sk-toggleable__label sk-toggleable__label-arrow\">ColumnTransfomer: ColumnTransformer</label><div class=\"sk-toggleable__content\"><pre>ColumnTransformer(transformers=[(&#x27;Vectorizer&#x27;, TfidfVectorizer(), 0),\n",
       "                                (&#x27;Identity&#x27;, FunctionTransformer(),\n",
       "                                 [1, 2, 3, 4])])</pre></div></div></div><div class=\"sk-parallel\"><div class=\"sk-parallel-item\"><div class=\"sk-item\"><div class=\"sk-label-container\"><div class=\"sk-label sk-toggleable\"><input class=\"sk-toggleable__control sk-hidden--visually\" id=\"sk-estimator-id-223\" type=\"checkbox\" ><label for=\"sk-estimator-id-223\" class=\"sk-toggleable__label sk-toggleable__label-arrow\">Vectorizer</label><div class=\"sk-toggleable__content\"><pre>0</pre></div></div></div><div class=\"sk-serial\"><div class=\"sk-item\"><div class=\"sk-estimator sk-toggleable\"><input class=\"sk-toggleable__control sk-hidden--visually\" id=\"sk-estimator-id-224\" type=\"checkbox\" ><label for=\"sk-estimator-id-224\" class=\"sk-toggleable__label sk-toggleable__label-arrow\">TfidfVectorizer</label><div class=\"sk-toggleable__content\"><pre>TfidfVectorizer()</pre></div></div></div></div></div></div><div class=\"sk-parallel-item\"><div class=\"sk-item\"><div class=\"sk-label-container\"><div class=\"sk-label sk-toggleable\"><input class=\"sk-toggleable__control sk-hidden--visually\" id=\"sk-estimator-id-225\" type=\"checkbox\" ><label for=\"sk-estimator-id-225\" class=\"sk-toggleable__label sk-toggleable__label-arrow\">Identity</label><div class=\"sk-toggleable__content\"><pre>[1, 2, 3, 4]</pre></div></div></div><div class=\"sk-serial\"><div class=\"sk-item\"><div class=\"sk-estimator sk-toggleable\"><input class=\"sk-toggleable__control sk-hidden--visually\" id=\"sk-estimator-id-226\" type=\"checkbox\" ><label for=\"sk-estimator-id-226\" class=\"sk-toggleable__label sk-toggleable__label-arrow\">FunctionTransformer</label><div class=\"sk-toggleable__content\"><pre>FunctionTransformer()</pre></div></div></div></div></div></div></div></div><div class=\"sk-item\"><div class=\"sk-estimator sk-toggleable\"><input class=\"sk-toggleable__control sk-hidden--visually\" id=\"sk-estimator-id-227\" type=\"checkbox\" ><label for=\"sk-estimator-id-227\" class=\"sk-toggleable__label sk-toggleable__label-arrow\">MaxAbsScaler</label><div class=\"sk-toggleable__content\"><pre>MaxAbsScaler()</pre></div></div></div><div class=\"sk-item\"><div class=\"sk-estimator sk-toggleable\"><input class=\"sk-toggleable__control sk-hidden--visually\" id=\"sk-estimator-id-228\" type=\"checkbox\" ><label for=\"sk-estimator-id-228\" class=\"sk-toggleable__label sk-toggleable__label-arrow\">RandomForestClassifier</label><div class=\"sk-toggleable__content\"><pre>RandomForestClassifier()</pre></div></div></div></div></div></div></div>"
      ],
      "text/plain": [
       "Pipeline(steps=[('ColumnTransfomer',\n",
       "                 ColumnTransformer(transformers=[('Vectorizer',\n",
       "                                                  TfidfVectorizer(), 0),\n",
       "                                                 ('Identity',\n",
       "                                                  FunctionTransformer(),\n",
       "                                                  [1, 2, 3, 4])])),\n",
       "                ('Scaler', MaxAbsScaler()),\n",
       "                ('Estimator', RandomForestClassifier())])"
      ]
     },
     "execution_count": 376,
     "metadata": {},
     "output_type": "execute_result"
    }
   ],
   "source": [
    "model_rf.fit(X_train,y_train)"
   ]
  },
  {
   "cell_type": "code",
   "execution_count": 377,
   "metadata": {},
   "outputs": [
    {
     "name": "stdout",
     "output_type": "stream",
     "text": [
      "Train Accuracy: 0.8672106824925816\n",
      "Train F1 Score: 0.0063441712926249\n"
     ]
    }
   ],
   "source": [
    "pred = model_rf.predict(X_val)\n",
    "print(f\"Train Accuracy: {accuracy_score(y_val,pred)}\")\n",
    "print(f\"Train F1 Score: {f1_score(y_val,pred)}\")"
   ]
  },
  {
   "cell_type": "code",
   "execution_count": 625,
   "metadata": {},
   "outputs": [],
   "source": [
    "model_xgb = Pipeline(steps=[\n",
    "    (\"ColumnTransfomer\",ColumnTransformer([\n",
    "        (\"Vectorizer\",TfidfVectorizer(), 0),\n",
    "        (\"Identity\",FunctionTransformer(), [1,2,3,4]),\n",
    "    ])),\n",
    "    (\"Scaler\",MaxAbsScaler()),\n",
    "    (\"Estimator\",XGBClassifier())\n",
    "])"
   ]
  },
  {
   "cell_type": "code",
   "execution_count": 626,
   "metadata": {},
   "outputs": [
    {
     "data": {
      "text/html": [
       "<style>#sk-container-id-37 {color: black;}#sk-container-id-37 pre{padding: 0;}#sk-container-id-37 div.sk-toggleable {background-color: white;}#sk-container-id-37 label.sk-toggleable__label {cursor: pointer;display: block;width: 100%;margin-bottom: 0;padding: 0.3em;box-sizing: border-box;text-align: center;}#sk-container-id-37 label.sk-toggleable__label-arrow:before {content: \"▸\";float: left;margin-right: 0.25em;color: #696969;}#sk-container-id-37 label.sk-toggleable__label-arrow:hover:before {color: black;}#sk-container-id-37 div.sk-estimator:hover label.sk-toggleable__label-arrow:before {color: black;}#sk-container-id-37 div.sk-toggleable__content {max-height: 0;max-width: 0;overflow: hidden;text-align: left;background-color: #f0f8ff;}#sk-container-id-37 div.sk-toggleable__content pre {margin: 0.2em;color: black;border-radius: 0.25em;background-color: #f0f8ff;}#sk-container-id-37 input.sk-toggleable__control:checked~div.sk-toggleable__content {max-height: 200px;max-width: 100%;overflow: auto;}#sk-container-id-37 input.sk-toggleable__control:checked~label.sk-toggleable__label-arrow:before {content: \"▾\";}#sk-container-id-37 div.sk-estimator input.sk-toggleable__control:checked~label.sk-toggleable__label {background-color: #d4ebff;}#sk-container-id-37 div.sk-label input.sk-toggleable__control:checked~label.sk-toggleable__label {background-color: #d4ebff;}#sk-container-id-37 input.sk-hidden--visually {border: 0;clip: rect(1px 1px 1px 1px);clip: rect(1px, 1px, 1px, 1px);height: 1px;margin: -1px;overflow: hidden;padding: 0;position: absolute;width: 1px;}#sk-container-id-37 div.sk-estimator {font-family: monospace;background-color: #f0f8ff;border: 1px dotted black;border-radius: 0.25em;box-sizing: border-box;margin-bottom: 0.5em;}#sk-container-id-37 div.sk-estimator:hover {background-color: #d4ebff;}#sk-container-id-37 div.sk-parallel-item::after {content: \"\";width: 100%;border-bottom: 1px solid gray;flex-grow: 1;}#sk-container-id-37 div.sk-label:hover label.sk-toggleable__label {background-color: #d4ebff;}#sk-container-id-37 div.sk-serial::before {content: \"\";position: absolute;border-left: 1px solid gray;box-sizing: border-box;top: 0;bottom: 0;left: 50%;z-index: 0;}#sk-container-id-37 div.sk-serial {display: flex;flex-direction: column;align-items: center;background-color: white;padding-right: 0.2em;padding-left: 0.2em;position: relative;}#sk-container-id-37 div.sk-item {position: relative;z-index: 1;}#sk-container-id-37 div.sk-parallel {display: flex;align-items: stretch;justify-content: center;background-color: white;position: relative;}#sk-container-id-37 div.sk-item::before, #sk-container-id-37 div.sk-parallel-item::before {content: \"\";position: absolute;border-left: 1px solid gray;box-sizing: border-box;top: 0;bottom: 0;left: 50%;z-index: -1;}#sk-container-id-37 div.sk-parallel-item {display: flex;flex-direction: column;z-index: 1;position: relative;background-color: white;}#sk-container-id-37 div.sk-parallel-item:first-child::after {align-self: flex-end;width: 50%;}#sk-container-id-37 div.sk-parallel-item:last-child::after {align-self: flex-start;width: 50%;}#sk-container-id-37 div.sk-parallel-item:only-child::after {width: 0;}#sk-container-id-37 div.sk-dashed-wrapped {border: 1px dashed gray;margin: 0 0.4em 0.5em 0.4em;box-sizing: border-box;padding-bottom: 0.4em;background-color: white;}#sk-container-id-37 div.sk-label label {font-family: monospace;font-weight: bold;display: inline-block;line-height: 1.2em;}#sk-container-id-37 div.sk-label-container {text-align: center;}#sk-container-id-37 div.sk-container {/* jupyter's `normalize.less` sets `[hidden] { display: none; }` but bootstrap.min.css set `[hidden] { display: none !important; }` so we also need the `!important` here to be able to override the default hidden behavior on the sphinx rendered scikit-learn.org. See: https://github.com/scikit-learn/scikit-learn/issues/21755 */display: inline-block !important;position: relative;}#sk-container-id-37 div.sk-text-repr-fallback {display: none;}</style><div id=\"sk-container-id-37\" class=\"sk-top-container\"><div class=\"sk-text-repr-fallback\"><pre>Pipeline(steps=[(&#x27;ColumnTransfomer&#x27;,\n",
       "                 ColumnTransformer(transformers=[(&#x27;Vectorizer&#x27;,\n",
       "                                                  TfidfVectorizer(), 0),\n",
       "                                                 (&#x27;Identity&#x27;,\n",
       "                                                  FunctionTransformer(),\n",
       "                                                  [1, 2, 3, 4])])),\n",
       "                (&#x27;Scaler&#x27;, MaxAbsScaler()),\n",
       "                (&#x27;Estimator&#x27;,\n",
       "                 XGBClassifier(base_score=None, booster=None, callbacks=None,\n",
       "                               colsample_bylevel=None, colsample_bynode=None,\n",
       "                               colsample_bytree=None, device=None,\n",
       "                               early_stopping_rounds=N...\n",
       "                               feature_types=None, gamma=None, grow_policy=None,\n",
       "                               importance_type=None,\n",
       "                               interaction_constraints=None, learning_rate=None,\n",
       "                               max_bin=None, max_cat_threshold=None,\n",
       "                               max_cat_to_onehot=None, max_delta_step=None,\n",
       "                               max_depth=None, max_leaves=None,\n",
       "                               min_child_weight=None, missing=nan,\n",
       "                               monotone_constraints=None, multi_strategy=None,\n",
       "                               n_estimators=None, n_jobs=None,\n",
       "                               num_parallel_tree=None, random_state=None, ...))])</pre><b>In a Jupyter environment, please rerun this cell to show the HTML representation or trust the notebook. <br />On GitHub, the HTML representation is unable to render, please try loading this page with nbviewer.org.</b></div><div class=\"sk-container\" hidden><div class=\"sk-item sk-dashed-wrapped\"><div class=\"sk-label-container\"><div class=\"sk-label sk-toggleable\"><input class=\"sk-toggleable__control sk-hidden--visually\" id=\"sk-estimator-id-297\" type=\"checkbox\" ><label for=\"sk-estimator-id-297\" class=\"sk-toggleable__label sk-toggleable__label-arrow\">Pipeline</label><div class=\"sk-toggleable__content\"><pre>Pipeline(steps=[(&#x27;ColumnTransfomer&#x27;,\n",
       "                 ColumnTransformer(transformers=[(&#x27;Vectorizer&#x27;,\n",
       "                                                  TfidfVectorizer(), 0),\n",
       "                                                 (&#x27;Identity&#x27;,\n",
       "                                                  FunctionTransformer(),\n",
       "                                                  [1, 2, 3, 4])])),\n",
       "                (&#x27;Scaler&#x27;, MaxAbsScaler()),\n",
       "                (&#x27;Estimator&#x27;,\n",
       "                 XGBClassifier(base_score=None, booster=None, callbacks=None,\n",
       "                               colsample_bylevel=None, colsample_bynode=None,\n",
       "                               colsample_bytree=None, device=None,\n",
       "                               early_stopping_rounds=N...\n",
       "                               feature_types=None, gamma=None, grow_policy=None,\n",
       "                               importance_type=None,\n",
       "                               interaction_constraints=None, learning_rate=None,\n",
       "                               max_bin=None, max_cat_threshold=None,\n",
       "                               max_cat_to_onehot=None, max_delta_step=None,\n",
       "                               max_depth=None, max_leaves=None,\n",
       "                               min_child_weight=None, missing=nan,\n",
       "                               monotone_constraints=None, multi_strategy=None,\n",
       "                               n_estimators=None, n_jobs=None,\n",
       "                               num_parallel_tree=None, random_state=None, ...))])</pre></div></div></div><div class=\"sk-serial\"><div class=\"sk-item sk-dashed-wrapped\"><div class=\"sk-label-container\"><div class=\"sk-label sk-toggleable\"><input class=\"sk-toggleable__control sk-hidden--visually\" id=\"sk-estimator-id-298\" type=\"checkbox\" ><label for=\"sk-estimator-id-298\" class=\"sk-toggleable__label sk-toggleable__label-arrow\">ColumnTransfomer: ColumnTransformer</label><div class=\"sk-toggleable__content\"><pre>ColumnTransformer(transformers=[(&#x27;Vectorizer&#x27;, TfidfVectorizer(), 0),\n",
       "                                (&#x27;Identity&#x27;, FunctionTransformer(),\n",
       "                                 [1, 2, 3, 4])])</pre></div></div></div><div class=\"sk-parallel\"><div class=\"sk-parallel-item\"><div class=\"sk-item\"><div class=\"sk-label-container\"><div class=\"sk-label sk-toggleable\"><input class=\"sk-toggleable__control sk-hidden--visually\" id=\"sk-estimator-id-299\" type=\"checkbox\" ><label for=\"sk-estimator-id-299\" class=\"sk-toggleable__label sk-toggleable__label-arrow\">Vectorizer</label><div class=\"sk-toggleable__content\"><pre>0</pre></div></div></div><div class=\"sk-serial\"><div class=\"sk-item\"><div class=\"sk-estimator sk-toggleable\"><input class=\"sk-toggleable__control sk-hidden--visually\" id=\"sk-estimator-id-300\" type=\"checkbox\" ><label for=\"sk-estimator-id-300\" class=\"sk-toggleable__label sk-toggleable__label-arrow\">TfidfVectorizer</label><div class=\"sk-toggleable__content\"><pre>TfidfVectorizer()</pre></div></div></div></div></div></div><div class=\"sk-parallel-item\"><div class=\"sk-item\"><div class=\"sk-label-container\"><div class=\"sk-label sk-toggleable\"><input class=\"sk-toggleable__control sk-hidden--visually\" id=\"sk-estimator-id-301\" type=\"checkbox\" ><label for=\"sk-estimator-id-301\" class=\"sk-toggleable__label sk-toggleable__label-arrow\">Identity</label><div class=\"sk-toggleable__content\"><pre>[1, 2, 3, 4]</pre></div></div></div><div class=\"sk-serial\"><div class=\"sk-item\"><div class=\"sk-estimator sk-toggleable\"><input class=\"sk-toggleable__control sk-hidden--visually\" id=\"sk-estimator-id-302\" type=\"checkbox\" ><label for=\"sk-estimator-id-302\" class=\"sk-toggleable__label sk-toggleable__label-arrow\">FunctionTransformer</label><div class=\"sk-toggleable__content\"><pre>FunctionTransformer()</pre></div></div></div></div></div></div></div></div><div class=\"sk-item\"><div class=\"sk-estimator sk-toggleable\"><input class=\"sk-toggleable__control sk-hidden--visually\" id=\"sk-estimator-id-303\" type=\"checkbox\" ><label for=\"sk-estimator-id-303\" class=\"sk-toggleable__label sk-toggleable__label-arrow\">MaxAbsScaler</label><div class=\"sk-toggleable__content\"><pre>MaxAbsScaler()</pre></div></div></div><div class=\"sk-item\"><div class=\"sk-estimator sk-toggleable\"><input class=\"sk-toggleable__control sk-hidden--visually\" id=\"sk-estimator-id-304\" type=\"checkbox\" ><label for=\"sk-estimator-id-304\" class=\"sk-toggleable__label sk-toggleable__label-arrow\">XGBClassifier</label><div class=\"sk-toggleable__content\"><pre>XGBClassifier(base_score=None, booster=None, callbacks=None,\n",
       "              colsample_bylevel=None, colsample_bynode=None,\n",
       "              colsample_bytree=None, device=None, early_stopping_rounds=None,\n",
       "              enable_categorical=False, eval_metric=None, feature_types=None,\n",
       "              gamma=None, grow_policy=None, importance_type=None,\n",
       "              interaction_constraints=None, learning_rate=None, max_bin=None,\n",
       "              max_cat_threshold=None, max_cat_to_onehot=None,\n",
       "              max_delta_step=None, max_depth=None, max_leaves=None,\n",
       "              min_child_weight=None, missing=nan, monotone_constraints=None,\n",
       "              multi_strategy=None, n_estimators=None, n_jobs=None,\n",
       "              num_parallel_tree=None, random_state=None, ...)</pre></div></div></div></div></div></div></div>"
      ],
      "text/plain": [
       "Pipeline(steps=[('ColumnTransfomer',\n",
       "                 ColumnTransformer(transformers=[('Vectorizer',\n",
       "                                                  TfidfVectorizer(), 0),\n",
       "                                                 ('Identity',\n",
       "                                                  FunctionTransformer(),\n",
       "                                                  [1, 2, 3, 4])])),\n",
       "                ('Scaler', MaxAbsScaler()),\n",
       "                ('Estimator',\n",
       "                 XGBClassifier(base_score=None, booster=None, callbacks=None,\n",
       "                               colsample_bylevel=None, colsample_bynode=None,\n",
       "                               colsample_bytree=None, device=None,\n",
       "                               early_stopping_rounds=N...\n",
       "                               feature_types=None, gamma=None, grow_policy=None,\n",
       "                               importance_type=None,\n",
       "                               interaction_constraints=None, learning_rate=None,\n",
       "                               max_bin=None, max_cat_threshold=None,\n",
       "                               max_cat_to_onehot=None, max_delta_step=None,\n",
       "                               max_depth=None, max_leaves=None,\n",
       "                               min_child_weight=None, missing=nan,\n",
       "                               monotone_constraints=None, multi_strategy=None,\n",
       "                               n_estimators=None, n_jobs=None,\n",
       "                               num_parallel_tree=None, random_state=None, ...))])"
      ]
     },
     "execution_count": 626,
     "metadata": {},
     "output_type": "execute_result"
    }
   ],
   "source": [
    "model_xgb.fit(X_train,y_train)"
   ]
  },
  {
   "cell_type": "code",
   "execution_count": 627,
   "metadata": {},
   "outputs": [
    {
     "name": "stdout",
     "output_type": "stream",
     "text": [
      "Train Accuracy: 0.8681644764730818\n",
      "Train F1 Score: 0.1826544021024967\n"
     ]
    }
   ],
   "source": [
    "pred = model_xgb.predict(X_val)\n",
    "print(f\"Train Accuracy: {accuracy_score(y_val,pred)}\")\n",
    "print(f\"Train F1 Score: {f1_score(y_val,pred)}\")"
   ]
  },
  {
   "cell_type": "code",
   "execution_count": 410,
   "metadata": {},
   "outputs": [],
   "source": [
    "reviewer_frequency = test_df.groupby('reviewer ID')['review ID'].count().reset_index()\n",
    "reviewer_frequency.columns = ['reviewer ID', 'review_frequency']"
   ]
  },
  {
   "cell_type": "code",
   "execution_count": 411,
   "metadata": {},
   "outputs": [],
   "source": [
    "ratios = test_df.groupby('reviewer ID').agg({\n",
    "    'rating_Helpful': lambda x: sum(x) / len(x),\n",
    "    'rating_Thanks': lambda x: sum(x) / len(x),\n",
    "    'rating_LoveThis': lambda x: sum(x) / len(x),\n",
    "    'review ID': 'count'\n",
    "}).reset_index()\n",
    "ratios.columns = ['reviewer ID', 'helpful_ratio', 'thanks_ratio', 'love_ratio', 'total_reviews']\n",
    "reviewer_behavior = pd.merge(reviewer_frequency, ratios, on='reviewer ID')"
   ]
  },
  {
   "cell_type": "code",
   "execution_count": 412,
   "metadata": {},
   "outputs": [],
   "source": [
    "# Calculate number of reviews per product\n",
    "product_reviews_count = test_df.groupby('product ID')['review ID'].count().reset_index()\n",
    "product_reviews_count.columns = ['product ID', 'reviews_count']\n",
    "\n",
    "rating_weights = {'rating_Helpful': 1, 'rating_Thanks': 1, 'rating_LoveThis': 1, 'rating_OhNo': -1}\n",
    "\n",
    "# Calculate overall rating for each product\n",
    "test_df['overall_rating'] = test_df.apply(lambda row: sum(row[rating] * rating_weights[rating] for rating in rating_weights.keys()), axis=1)\n",
    "\n",
    "# Calculate average rating per product\n",
    "product_avg_rating = test_df.groupby('product ID')['overall_rating'].mean().reset_index()\n",
    "product_avg_rating.columns = ['product ID', 'avg_rating']\n",
    "\n",
    "# Merge the two dataframes\n",
    "product_popularity = pd.merge(product_reviews_count, product_avg_rating, on='product ID')"
   ]
  },
  {
   "cell_type": "code",
   "execution_count": 415,
   "metadata": {},
   "outputs": [],
   "source": [
    "# Step 1: Identify Reviewers Reviewing Multiple Products\n",
    "reviewer_product_count = test_df.groupby('reviewer ID')['product ID'].nunique().reset_index()\n",
    "reviewer_product_count.columns = ['reviewer ID', 'unique_products_reviewed']\n",
    "\n",
    "# Step 2: Calculate Time Interval between Reviews\n",
    "test_df['Date'] = pd.to_datetime(test_df['Date'])  # Convert Date column to datetime format\n",
    "test_df_sorted = test_df.sort_values(by=['reviewer ID', 'Date'])  # Sort dataframe by reviewer ID and Date\n",
    "\n",
    "# Calculate time difference between consecutive reviews for each reviewer\n",
    "test_df_sorted['time_diff'] = test_df_sorted.groupby('reviewer ID')['Date'].diff().dt.days.fillna(0)\n",
    "\n",
    "# Flag reviewers who submit multiple reviews within a short period (e.g., within 1 day)\n",
    "short_interval_reviewers = test_df_sorted[test_df_sorted['time_diff'] < 1]['reviewer ID'].unique()"
   ]
  },
  {
   "cell_type": "code",
   "execution_count": 416,
   "metadata": {},
   "outputs": [],
   "source": [
    "test_df = pd.merge(train_df, reviewer_behavior, on='reviewer ID')"
   ]
  },
  {
   "cell_type": "code",
   "execution_count": 417,
   "metadata": {},
   "outputs": [],
   "source": [
    "def preprocess_df(df):\n",
    "    pol = lambda x: TextBlob(x).sentiment.polarity\n",
    "    sub = lambda x: TextBlob(x).sentiment.subjectivity\n",
    "\n",
    "    df['polarity'] = df['reviews'].progress_apply(pol)\n",
    "    df['subjectivity'] = df['reviews'].progress_apply(sub)"
   ]
  },
  {
   "cell_type": "code",
   "execution_count": 418,
   "metadata": {},
   "outputs": [
    {
     "data": {
      "application/vnd.jupyter.widget-view+json": {
       "model_id": "2751d3f156b748908da59df2ace57b34",
       "version_major": 2,
       "version_minor": 0
      },
      "text/plain": [
       "  0%|          | 0/18346 [00:00<?, ?it/s]"
      ]
     },
     "metadata": {},
     "output_type": "display_data"
    },
    {
     "data": {
      "application/vnd.jupyter.widget-view+json": {
       "model_id": "f4a07df4400141fdbd487f81a18cead7",
       "version_major": 2,
       "version_minor": 0
      },
      "text/plain": [
       "  0%|          | 0/18346 [00:00<?, ?it/s]"
      ]
     },
     "metadata": {},
     "output_type": "display_data"
    }
   ],
   "source": [
    "preprocess_df(test_df)"
   ]
  },
  {
   "cell_type": "code",
   "execution_count": 419,
   "metadata": {},
   "outputs": [],
   "source": [
    "X_testt = test_df[['cleaned_reviews', 'langth', 'review_frequency', 'reviews_count', 'overall_rating']]\n"
   ]
  },
  {
   "cell_type": "code",
   "execution_count": 420,
   "metadata": {},
   "outputs": [
    {
     "data": {
      "text/html": [
       "<div>\n",
       "<style scoped>\n",
       "    .dataframe tbody tr th:only-of-type {\n",
       "        vertical-align: middle;\n",
       "    }\n",
       "\n",
       "    .dataframe tbody tr th {\n",
       "        vertical-align: top;\n",
       "    }\n",
       "\n",
       "    .dataframe thead th {\n",
       "        text-align: right;\n",
       "    }\n",
       "</style>\n",
       "<table border=\"1\" class=\"dataframe\">\n",
       "  <thead>\n",
       "    <tr style=\"text-align: right;\">\n",
       "      <th></th>\n",
       "      <th>cleaned_reviews</th>\n",
       "      <th>langth</th>\n",
       "      <th>review_frequency</th>\n",
       "      <th>reviews_count</th>\n",
       "      <th>overall_rating</th>\n",
       "    </tr>\n",
       "  </thead>\n",
       "  <tbody>\n",
       "    <tr>\n",
       "      <th>0</th>\n",
       "      <td>beautiful saturday afternoon wife home two you...</td>\n",
       "      <td>2655</td>\n",
       "      <td>3</td>\n",
       "      <td>443</td>\n",
       "      <td>-5</td>\n",
       "    </tr>\n",
       "    <tr>\n",
       "      <th>1</th>\n",
       "      <td>went uncommon ground brunch sunday deciding en...</td>\n",
       "      <td>794</td>\n",
       "      <td>6</td>\n",
       "      <td>294</td>\n",
       "      <td>-3</td>\n",
       "    </tr>\n",
       "    <tr>\n",
       "      <th>2</th>\n",
       "      <td>cigarette worthy meal revolution brewing last ...</td>\n",
       "      <td>998</td>\n",
       "      <td>1</td>\n",
       "      <td>656</td>\n",
       "      <td>-1</td>\n",
       "    </tr>\n",
       "    <tr>\n",
       "      <th>3</th>\n",
       "      <td>least favorite deep dish pizza chicago reading...</td>\n",
       "      <td>481</td>\n",
       "      <td>1</td>\n",
       "      <td>781</td>\n",
       "      <td>0</td>\n",
       "    </tr>\n",
       "    <tr>\n",
       "      <th>4</th>\n",
       "      <td>want able give [number] [number] stars love at...</td>\n",
       "      <td>930</td>\n",
       "      <td>1</td>\n",
       "      <td>645</td>\n",
       "      <td>1</td>\n",
       "    </tr>\n",
       "    <tr>\n",
       "      <th>...</th>\n",
       "      <td>...</td>\n",
       "      <td>...</td>\n",
       "      <td>...</td>\n",
       "      <td>...</td>\n",
       "      <td>...</td>\n",
       "    </tr>\n",
       "    <tr>\n",
       "      <th>18341</th>\n",
       "      <td>well understand fuss deliciousness found neigh...</td>\n",
       "      <td>923</td>\n",
       "      <td>5</td>\n",
       "      <td>949</td>\n",
       "      <td>-4</td>\n",
       "    </tr>\n",
       "    <tr>\n",
       "      <th>18342</th>\n",
       "      <td>excellent experiences clients family friends n...</td>\n",
       "      <td>535</td>\n",
       "      <td>5</td>\n",
       "      <td>550</td>\n",
       "      <td>-4</td>\n",
       "    </tr>\n",
       "    <tr>\n",
       "      <th>18343</th>\n",
       "      <td>huge fan peter parker roll also little [number...</td>\n",
       "      <td>482</td>\n",
       "      <td>1</td>\n",
       "      <td>251</td>\n",
       "      <td>-3</td>\n",
       "    </tr>\n",
       "    <tr>\n",
       "      <th>18344</th>\n",
       "      <td>[number] locations choose within [number] bloc...</td>\n",
       "      <td>712</td>\n",
       "      <td>3</td>\n",
       "      <td>258</td>\n",
       "      <td>-4</td>\n",
       "    </tr>\n",
       "    <tr>\n",
       "      <th>18345</th>\n",
       "      <td>nice find chi town came host friends say real ...</td>\n",
       "      <td>395</td>\n",
       "      <td>6</td>\n",
       "      <td>436</td>\n",
       "      <td>0</td>\n",
       "    </tr>\n",
       "  </tbody>\n",
       "</table>\n",
       "<p>18346 rows × 5 columns</p>\n",
       "</div>"
      ],
      "text/plain": [
       "                                         cleaned_reviews  langth  \\\n",
       "0      beautiful saturday afternoon wife home two you...    2655   \n",
       "1      went uncommon ground brunch sunday deciding en...     794   \n",
       "2      cigarette worthy meal revolution brewing last ...     998   \n",
       "3      least favorite deep dish pizza chicago reading...     481   \n",
       "4      want able give [number] [number] stars love at...     930   \n",
       "...                                                  ...     ...   \n",
       "18341  well understand fuss deliciousness found neigh...     923   \n",
       "18342  excellent experiences clients family friends n...     535   \n",
       "18343  huge fan peter parker roll also little [number...     482   \n",
       "18344  [number] locations choose within [number] bloc...     712   \n",
       "18345  nice find chi town came host friends say real ...     395   \n",
       "\n",
       "       review_frequency  reviews_count  overall_rating  \n",
       "0                     3            443              -5  \n",
       "1                     6            294              -3  \n",
       "2                     1            656              -1  \n",
       "3                     1            781               0  \n",
       "4                     1            645               1  \n",
       "...                 ...            ...             ...  \n",
       "18341                 5            949              -4  \n",
       "18342                 5            550              -4  \n",
       "18343                 1            251              -3  \n",
       "18344                 3            258              -4  \n",
       "18345                 6            436               0  \n",
       "\n",
       "[18346 rows x 5 columns]"
      ]
     },
     "execution_count": 420,
     "metadata": {},
     "output_type": "execute_result"
    }
   ],
   "source": [
    "X_testt"
   ]
  },
  {
   "cell_type": "code",
   "execution_count": 422,
   "metadata": {},
   "outputs": [
    {
     "ename": "TypeError",
     "evalue": "XGBClassifier.fit() missing 1 required positional argument: 'y'",
     "output_type": "error",
     "traceback": [
      "\u001b[1;31m---------------------------------------------------------------------------\u001b[0m",
      "\u001b[1;31mTypeError\u001b[0m                                 Traceback (most recent call last)",
      "Cell \u001b[1;32mIn[422], line 3\u001b[0m\n\u001b[0;32m      1\u001b[0m submit \u001b[38;5;241m=\u001b[39m pd\u001b[38;5;241m.\u001b[39mDataFrame()\n\u001b[0;32m      2\u001b[0m submit[\u001b[38;5;124m\"\u001b[39m\u001b[38;5;124mID\u001b[39m\u001b[38;5;124m\"\u001b[39m] \u001b[38;5;241m=\u001b[39m test_df[\u001b[38;5;124m\"\u001b[39m\u001b[38;5;124mid\u001b[39m\u001b[38;5;124m\"\u001b[39m] \u001b[38;5;241m+\u001b[39m \u001b[38;5;241m1\u001b[39m\n\u001b[1;32m----> 3\u001b[0m submit[\u001b[38;5;124m\"\u001b[39m\u001b[38;5;124mLabel\u001b[39m\u001b[38;5;124m\"\u001b[39m] \u001b[38;5;241m=\u001b[39m \u001b[43mXGBClassifier\u001b[49m\u001b[38;5;241;43m.\u001b[39;49m\u001b[43mfit\u001b[49m\u001b[43m(\u001b[49m\u001b[43mX\u001b[49m\u001b[43m,\u001b[49m\u001b[43m \u001b[49m\u001b[43my\u001b[49m\u001b[43m)\u001b[49m\u001b[38;5;241m.\u001b[39mpredict(X_testt)\n",
      "File \u001b[1;32mc:\\Users\\ACER\\AppData\\Local\\Programs\\Python\\Python312\\Lib\\site-packages\\xgboost\\core.py:730\u001b[0m, in \u001b[0;36mrequire_keyword_args.<locals>.throw_if.<locals>.inner_f\u001b[1;34m(*args, **kwargs)\u001b[0m\n\u001b[0;32m    728\u001b[0m \u001b[38;5;28;01mfor\u001b[39;00m k, arg \u001b[38;5;129;01min\u001b[39;00m \u001b[38;5;28mzip\u001b[39m(sig\u001b[38;5;241m.\u001b[39mparameters, args):\n\u001b[0;32m    729\u001b[0m     kwargs[k] \u001b[38;5;241m=\u001b[39m arg\n\u001b[1;32m--> 730\u001b[0m \u001b[38;5;28;01mreturn\u001b[39;00m \u001b[43mfunc\u001b[49m\u001b[43m(\u001b[49m\u001b[38;5;241;43m*\u001b[39;49m\u001b[38;5;241;43m*\u001b[39;49m\u001b[43mkwargs\u001b[49m\u001b[43m)\u001b[49m\n",
      "\u001b[1;31mTypeError\u001b[0m: XGBClassifier.fit() missing 1 required positional argument: 'y'"
     ]
    }
   ],
   "source": [
    "submit = pd.DataFrame()\n",
    "submit[\"ID\"] = test_df[\"id\"] + 1\n",
    "submit[\"Label\"] = XGBClassifier.fit(X, y).predict(X_testt)"
   ]
  }
 ],
 "metadata": {
  "kernelspec": {
   "display_name": "Python 3",
   "language": "python",
   "name": "python3"
  },
  "language_info": {
   "codemirror_mode": {
    "name": "ipython",
    "version": 3
   },
   "file_extension": ".py",
   "mimetype": "text/x-python",
   "name": "python",
   "nbconvert_exporter": "python",
   "pygments_lexer": "ipython3",
   "version": "3.12.1"
  }
 },
 "nbformat": 4,
 "nbformat_minor": 2
}
